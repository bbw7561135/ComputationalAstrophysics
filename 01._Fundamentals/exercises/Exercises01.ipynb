{
 "cells": [
  {
   "cell_type": "markdown",
   "metadata": {},
   "source": [
    "# Computational Astrophysics\n",
    "## 01. Exercises"
   ]
  },
  {
   "cell_type": "markdown",
   "metadata": {},
   "source": [
    "**Name:** \n",
    "\n",
    "---"
   ]
  },
  {
   "cell_type": "markdown",
   "metadata": {},
   "source": [
    "## 1. Radius of a Star\n",
    "**`Carroll and Ostlie (2017). Section 3.4`**\n",
    "\n",
    "Define a function that calculates the radius of a star from its luminosity $\\frac{L_*}{L_{\\odot}}$ (i.e. luminosity of the star in units of the solar luminosity) and its effective temperature $T_{eff}$ (in Kelvins) according to the equation\n",
    "\n",
    "\\begin{equation}\n",
    "L_* = 4\\pi \\sigma R_*^2 T_{eff}^4 ,\n",
    "\\end{equation}\n",
    "\n",
    "where $\\sigma$ is the Steffan-Boltzman constant. The radius of the star, $R_∗$ must be returned in units of solar radius, $R_{\\odot}$.\n",
    "\n",
    "**Extra Work:** Implement some routine to catch any invalid input such as, for example, a negative temperature or luminosity."
   ]
  },
  {
   "cell_type": "markdown",
   "metadata": {},
   "source": [
    "---\n",
    "\n",
    "## 2. Star Information\n",
    "**`Carroll and Ostlie (2017). Section 3.1`**\n",
    "\n",
    "The file `stars_data.txt` contains a list with the name of some of the nearest stars and some of their properties such as distance from the Sun in light-years, the apparent brightness and the luminosity (in units of the solar luminosity). Read the data from this file and store the information in a numpy array. \n",
    "\n",
    "1. Define a function that returns a list of the stars in order of distance from the Sun and writes the ordered information into a .txt file.\n",
    "\n",
    "2. Define a function that returns a list of the stars in order of luminosity and writes the ordered information into a .txt file.\n",
    "\n",
    "**Note:** The apparent brightness is how bright the stars look in our sky compared to the brightness of Sirius A. The Luminosity, or True brightness, is how bright the stars would look if all were at the same distance compared to the Sun."
   ]
  },
  {
   "cell_type": "markdown",
   "metadata": {},
   "source": [
    "---\n",
    "\n",
    "## 3. Lorentz Gamma Function\n",
    "**`Carroll and Ostlie (2017). Section 4.2`**\n",
    "\n",
    "1. Define a function that calculates the Lorentz gamma function,\n",
    "\n",
    "\\begin{equation}\n",
    "\\gamma (v) = \\frac{1}{\\sqrt{1-\\frac{v^2}{c^2}}}\n",
    "\\end{equation}\n",
    "\n",
    "for velocities in the range $0\\leq v < c$. \n",
    "\n",
    "2. Define a function that writes a file with two columns: the first column must have the values of the velocity β between 0 and 1 in increments of 0.01. The second column must have the values of the corresponding values of the Lorentz gamma function. Include an adequate header for the file."
   ]
  },
  {
   "cell_type": "markdown",
   "metadata": {},
   "source": [
    "¡¡ Happy Coding !!"
   ]
  }
 ],
 "metadata": {
  "kernelspec": {
   "display_name": "Python 3",
   "language": "python",
   "name": "python3"
  },
  "language_info": {
   "codemirror_mode": {
    "name": "ipython",
    "version": 3
   },
   "file_extension": ".py",
   "mimetype": "text/x-python",
   "name": "python",
   "nbconvert_exporter": "python",
   "pygments_lexer": "ipython3",
   "version": "3.7.4"
  }
 },
 "nbformat": 4,
 "nbformat_minor": 2
}
