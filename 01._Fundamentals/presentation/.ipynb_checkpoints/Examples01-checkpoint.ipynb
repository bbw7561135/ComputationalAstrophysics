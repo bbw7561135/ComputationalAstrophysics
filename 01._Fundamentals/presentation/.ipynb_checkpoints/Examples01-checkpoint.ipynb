{
 "cells": [
  {
   "cell_type": "markdown",
   "metadata": {},
   "source": [
    "# Computational Astrophysics\n",
    "## Fundamental Concepts. Examples\n",
    "\n",
    "---\n",
    "## Eduard Larrañaga\n",
    "\n",
    "Observatorio Astronómico Nacional\\\n",
    "Facultad de Ciencias\\\n",
    "Universidad Nacional de Colombia\n",
    "\n",
    "---"
   ]
  },
  {
   "cell_type": "markdown",
   "metadata": {},
   "source": [
    "### About this Notebook\n",
    "\n",
    "In this notebook we use `python` to illustrate some basic concepts of astrophysics such as distances and brightness. \n",
    "\n",
    "---"
   ]
  },
  {
   "cell_type": "markdown",
   "metadata": {},
   "source": [
    "## The `astropy` Project\n",
    "\n",
    "The `astropy` project is a core package for astronomy and astrophysics using `Python`. It includes a lot of functions that we will use along this course.\n",
    "\n",
    "`astropy` is included in Anaconda. To update to the latest version, use\n",
    "\n",
    "`conda update astropy`\n",
    "\n",
    "This package includes module with physical constants and a module to manipulate units. The complete list of constants included can be found at\n",
    "\n",
    "https://docs.astropy.org/en/stable/constants/index.html\n",
    "\n",
    "and the complete list of units included can be found at\n",
    "\n",
    "https://docs.astropy.org/en/stable/units/index.html"
   ]
  },
  {
   "cell_type": "code",
   "execution_count": 1,
   "metadata": {},
   "outputs": [],
   "source": [
    "import numpy as np\n",
    "import astropy.units as u\n",
    "from astropy import constants as const"
   ]
  },
  {
   "cell_type": "markdown",
   "metadata": {},
   "source": [
    "Newton's gravitational constant is"
   ]
  },
  {
   "cell_type": "code",
   "execution_count": 2,
   "metadata": {},
   "outputs": [
    {
     "data": {
      "text/latex": [
       "$6.67408 \\times 10^{-11} \\; \\mathrm{\\frac{m^{3}}{kg\\,s^{2}}}$"
      ],
      "text/plain": [
       "<<class 'astropy.constants.codata2014.CODATA2014'> name='Gravitational constant' value=6.67408e-11 uncertainty=3.1e-15 unit='m3 / (kg s2)' reference='CODATA 2014'>"
      ]
     },
     "execution_count": 2,
     "metadata": {},
     "output_type": "execute_result"
    }
   ],
   "source": [
    "const.G"
   ]
  },
  {
   "cell_type": "markdown",
   "metadata": {},
   "source": [
    "Speed of light in vacuum is"
   ]
  },
  {
   "cell_type": "code",
   "execution_count": 3,
   "metadata": {},
   "outputs": [
    {
     "data": {
      "text/latex": [
       "$2.9979246 \\times 10^{8} \\; \\mathrm{\\frac{m}{s}}$"
      ],
      "text/plain": [
       "<<class 'astropy.constants.codata2014.CODATA2014'> name='Speed of light in vacuum' value=299792458.0 uncertainty=0.0 unit='m / s' reference='CODATA 2014'>"
      ]
     },
     "execution_count": 3,
     "metadata": {},
     "output_type": "execute_result"
    }
   ],
   "source": [
    "const.c"
   ]
  },
  {
   "cell_type": "markdown",
   "metadata": {},
   "source": [
    "Mass of the Sun"
   ]
  },
  {
   "cell_type": "code",
   "execution_count": 4,
   "metadata": {},
   "outputs": [
    {
     "data": {
      "text/latex": [
       "$1.9884754 \\times 10^{30} \\; \\mathrm{kg}$"
      ],
      "text/plain": [
       "<<class 'astropy.constants.iau2015.IAU2015'> name='Solar mass' value=1.9884754153381438e+30 uncertainty=9.236140093538353e+25 unit='kg' reference='IAU 2015 Resolution B 3 + CODATA 2014'>"
      ]
     },
     "execution_count": 4,
     "metadata": {},
     "output_type": "execute_result"
    }
   ],
   "source": [
    "const.M_sun"
   ]
  },
  {
   "cell_type": "markdown",
   "metadata": {},
   "source": [
    "Reduced Planck's constant, $\\hbar$, and Boltzmann's constant, $k_B$, are"
   ]
  },
  {
   "cell_type": "code",
   "execution_count": 5,
   "metadata": {},
   "outputs": [
    {
     "data": {
      "text/latex": [
       "$1.0545718 \\times 10^{-34} \\; \\mathrm{J\\,s}$"
      ],
      "text/plain": [
       "<<class 'astropy.constants.codata2014.CODATA2014'> name='Reduced Planck constant' value=1.0545718e-34 uncertainty=1.3e-42 unit='J s' reference='CODATA 2014'>"
      ]
     },
     "execution_count": 5,
     "metadata": {},
     "output_type": "execute_result"
    }
   ],
   "source": [
    "const.hbar"
   ]
  },
  {
   "cell_type": "code",
   "execution_count": 6,
   "metadata": {},
   "outputs": [
    {
     "data": {
      "text/latex": [
       "$1.3806485 \\times 10^{-23} \\; \\mathrm{\\frac{J}{K}}$"
      ],
      "text/plain": [
       "<<class 'astropy.constants.codata2014.CODATA2014'> name='Boltzmann constant' value=1.38064852e-23 uncertainty=7.9e-30 unit='J / K' reference='CODATA 2014'>"
      ]
     },
     "execution_count": 6,
     "metadata": {},
     "output_type": "execute_result"
    }
   ],
   "source": [
    "const.k_B"
   ]
  },
  {
   "cell_type": "markdown",
   "metadata": {},
   "source": [
    "Information about a particular constant can be obtained as"
   ]
  },
  {
   "cell_type": "code",
   "execution_count": 7,
   "metadata": {},
   "outputs": [
    {
     "name": "stdout",
     "output_type": "stream",
     "text": [
      "  Name   = Speed of light in vacuum\n",
      "  Value  = 299792458.0\n",
      "  Uncertainty  = 0.0\n",
      "  Unit  = m / s\n",
      "  Reference = CODATA 2014\n"
     ]
    }
   ],
   "source": [
    "print(const.c)"
   ]
  },
  {
   "cell_type": "markdown",
   "metadata": {},
   "source": [
    "The value of a constant can be given in other units,"
   ]
  },
  {
   "cell_type": "code",
   "execution_count": 8,
   "metadata": {},
   "outputs": [
    {
     "data": {
      "text/latex": [
       "$0.30660139 \\; \\mathrm{\\frac{pc}{yr}}$"
      ],
      "text/plain": [
       "<Quantity 0.30660139 pc / yr>"
      ]
     },
     "execution_count": 8,
     "metadata": {},
     "output_type": "execute_result"
    }
   ],
   "source": [
    "const.c.to('pc/yr')"
   ]
  },
  {
   "cell_type": "code",
   "execution_count": 9,
   "metadata": {},
   "outputs": [
    {
     "data": {
      "text/latex": [
       "$1 \\; \\mathrm{\\frac{lyr}{yr}}$"
      ],
      "text/plain": [
       "<Quantity 1. lyr / yr>"
      ]
     },
     "execution_count": 9,
     "metadata": {},
     "output_type": "execute_result"
    }
   ],
   "source": [
    "const.c.to('lyr/yr')"
   ]
  },
  {
   "cell_type": "markdown",
   "metadata": {},
   "source": [
    "It is possible to define a mass equal of $1$ solar mass"
   ]
  },
  {
   "cell_type": "code",
   "execution_count": 10,
   "metadata": {},
   "outputs": [
    {
     "data": {
      "text/latex": [
       "$1 \\; \\mathrm{M_{\\odot}}$"
      ],
      "text/plain": [
       "<Quantity 1. solMass>"
      ]
     },
     "execution_count": 10,
     "metadata": {},
     "output_type": "execute_result"
    }
   ],
   "source": [
    "M = 1*u.Msun\n",
    "M"
   ]
  },
  {
   "cell_type": "markdown",
   "metadata": {},
   "source": [
    "and we can calculate the corresponding Schwarzschild radius using the imported constants,"
   ]
  },
  {
   "cell_type": "code",
   "execution_count": 13,
   "metadata": {},
   "outputs": [
    {
     "data": {
      "text/latex": [
       "$1.4851831 \\times 10^{-27} \\; \\mathrm{\\frac{m\\,M_{\\odot}}{kg}}$"
      ],
      "text/plain": [
       "<Quantity 1.4851831e-27 m solMass / kg>"
      ]
     },
     "execution_count": 13,
     "metadata": {},
     "output_type": "execute_result"
    }
   ],
   "source": [
    "G = const.G\n",
    "c = const.c\n",
    "rS = 2*G*M/c**2\n",
    "rS"
   ]
  },
  {
   "cell_type": "markdown",
   "metadata": {},
   "source": [
    "Note that the solar mass units can be transformed into kg to obtain a radius in units of meters. This is acomplished by the method `.decompose()`, "
   ]
  },
  {
   "cell_type": "code",
   "execution_count": 14,
   "metadata": {},
   "outputs": [
    {
     "data": {
      "text/latex": [
       "$2953.2501 \\; \\mathrm{m}$"
      ],
      "text/plain": [
       "<Quantity 2953.2500761 m>"
      ]
     },
     "execution_count": 14,
     "metadata": {},
     "output_type": "execute_result"
    }
   ],
   "source": [
    "rS = rS.decompose()\n",
    "rS"
   ]
  },
  {
   "cell_type": "markdown",
   "metadata": {},
   "source": [
    "and it is transformed into other units with the method `.to()`"
   ]
  },
  {
   "cell_type": "code",
   "execution_count": 15,
   "metadata": {},
   "outputs": [
    {
     "data": {
      "text/latex": [
       "$2.9532501 \\; \\mathrm{km}$"
      ],
      "text/plain": [
       "<Quantity 2.95325008 km>"
      ]
     },
     "execution_count": 15,
     "metadata": {},
     "output_type": "execute_result"
    }
   ],
   "source": [
    "rS.to(u.km)"
   ]
  },
  {
   "cell_type": "markdown",
   "metadata": {},
   "source": [
    "\n",
    "\n",
    "---\n",
    "## Distances in Astrophysics \n",
    "\n",
    "**`Ref: Section 3.1`**\n",
    "\n",
    "The first concept in astrophysics that we will present is that of distance. Here, we will present some units of measurement of distances used in astronomy and astrophysics through the package `astropy.units`. A complete list of units in the package can be found at\n",
    "https://docs.astropy.org/en/stable/units/index.html\n",
    "\n",
    "First, we introduce the **light-year** (lyr) as the distance travelled by light in vacuum in one Julian year (i.e. 365.25 days):"
   ]
  },
  {
   "cell_type": "code",
   "execution_count": 16,
   "metadata": {},
   "outputs": [
    {
     "data": {
      "text/latex": [
       "$1 \\; \\mathrm{lyr}$"
      ],
      "text/plain": [
       "<Quantity 1. lyr>"
      ]
     },
     "execution_count": 16,
     "metadata": {},
     "output_type": "execute_result"
    }
   ],
   "source": [
    "ly = 1*u.lyr\n",
    "ly"
   ]
  },
  {
   "cell_type": "markdown",
   "metadata": {},
   "source": [
    "This quantity can be written in other units such as meters or kilometers by usint the `.to()` method,"
   ]
  },
  {
   "cell_type": "code",
   "execution_count": 17,
   "metadata": {},
   "outputs": [
    {
     "data": {
      "text/latex": [
       "$9.4607305 \\times 10^{15} \\; \\mathrm{m}$"
      ],
      "text/plain": [
       "<Quantity 9.46073047e+15 m>"
      ]
     },
     "execution_count": 17,
     "metadata": {},
     "output_type": "execute_result"
    }
   ],
   "source": [
    "ly.to(u.m)"
   ]
  },
  {
   "cell_type": "markdown",
   "metadata": {},
   "source": [
    "Due to our location in the Solar System , it is usual that all distances are given with respect to the Sun and that the unit of measurement at this scale is chosen as the mean distance Sun-Earth. This is called an **Astronomical Unit** (au),"
   ]
  },
  {
   "cell_type": "code",
   "execution_count": 18,
   "metadata": {},
   "outputs": [
    {
     "data": {
      "text/latex": [
       "$1 \\; \\mathrm{AU}$"
      ],
      "text/plain": [
       "<Quantity 1. AU>"
      ]
     },
     "execution_count": 18,
     "metadata": {},
     "output_type": "execute_result"
    }
   ],
   "source": [
    "au = 1*u.au\n",
    "au"
   ]
  },
  {
   "cell_type": "markdown",
   "metadata": {},
   "source": [
    "$1$ au is equivalent to"
   ]
  },
  {
   "cell_type": "code",
   "execution_count": 19,
   "metadata": {},
   "outputs": [
    {
     "data": {
      "text/latex": [
       "$1.4959787 \\times 10^{11} \\; \\mathrm{m}$"
      ],
      "text/plain": [
       "<Quantity 1.49597871e+11 m>"
      ]
     },
     "execution_count": 19,
     "metadata": {},
     "output_type": "execute_result"
    }
   ],
   "source": [
    "au.to(u.m)"
   ]
  },
  {
   "cell_type": "code",
   "execution_count": 20,
   "metadata": {},
   "outputs": [
    {
     "data": {
      "text/latex": [
       "$1.5812507 \\times 10^{-5} \\; \\mathrm{lyr}$"
      ],
      "text/plain": [
       "<Quantity 1.58125074e-05 lyr>"
      ]
     },
     "execution_count": 20,
     "metadata": {},
     "output_type": "execute_result"
    }
   ],
   "source": [
    "au.to(u.lyr)"
   ]
  },
  {
   "cell_type": "markdown",
   "metadata": {},
   "source": [
    "### Parallax and the definition of parsec ###\n",
    "\n",
    "One of the initial forms of measurment of distances to stars in the Milky Way si known as the **parallax method**, in which it is used the annual shift of the angular position of an object in the sky. Using basic trigonometry, the distance to a satr is given by\n",
    "\n",
    "\\begin{equation}\n",
    "d = \\frac{b}{\\tan \\alpha}\n",
    "\\end{equation}\n",
    "\n",
    "where $b$ is the baseline of the triangle and $\\alpha$ is the parallax angle. For measurements from Earth, the baseline is chosen as $1$ au.\n",
    "\n",
    "Now, we define a function to calculate the distance for a given parallax angle,"
   ]
  },
  {
   "cell_type": "code",
   "execution_count": 21,
   "metadata": {},
   "outputs": [],
   "source": [
    "def d(alpha=1*u.arcsec, baseline = 1*u.au):\n",
    "    '''\n",
    "    ------------------------------------------\n",
    "    d(alpha, baseline)\n",
    "    ------------------------------------------\n",
    "    Returns the distance to a star using the \n",
    "    parallax method.\n",
    "    \n",
    "    Arguments:\n",
    "    baseline in au\n",
    "    parallax angle alpha given in arsec.\n",
    "    ------------------------------------------\n",
    "    '''\n",
    "    return baseline/np.tan(alpha)"
   ]
  },
  {
   "cell_type": "markdown",
   "metadata": {},
   "source": [
    "#### Example. $\\alpha$-Centauri ####\n",
    "The closest star system to the Sun is called $\\alpha$-Centauri. It is a triple system, consisting of three stars: $\\alpha$-Centauri A (Rigil Kentaurus), $\\alpha$-Centauri B (Toliman) and $\\alpha$-Centauri C (Proxima Centauri). The parallax angle for this system is 754.81 milli-arsec. Therefore, it is located at a distance of "
   ]
  },
  {
   "cell_type": "code",
   "execution_count": 22,
   "metadata": {},
   "outputs": [
    {
     "data": {
      "text/latex": [
       "$273267.19 \\; \\mathrm{AU}$"
      ],
      "text/plain": [
       "<Quantity 273267.18809525 AU>"
      ]
     },
     "execution_count": 22,
     "metadata": {},
     "output_type": "execute_result"
    }
   ],
   "source": [
    "alphaCentauri_distance = d(0.75481*u.arcsec)\n",
    "alphaCentauri_distance"
   ]
  },
  {
   "cell_type": "markdown",
   "metadata": {},
   "source": [
    "This is clearly a large value but it can be converted to light-years,"
   ]
  },
  {
   "cell_type": "code",
   "execution_count": 23,
   "metadata": {},
   "outputs": [
    {
     "data": {
      "text/latex": [
       "$4.3210394 \\; \\mathrm{lyr}$"
      ],
      "text/plain": [
       "<Quantity 4.32103944 lyr>"
      ]
     },
     "execution_count": 23,
     "metadata": {},
     "output_type": "execute_result"
    }
   ],
   "source": [
    "alphaCentauri_distance.to(u.lyr)"
   ]
  },
  {
   "cell_type": "markdown",
   "metadata": {},
   "source": [
    "---\n",
    "The parallax method permits to define a distance unit called **parsec** (pc), corresponding to the distance at which $1$ au subtends a parallax angle of $1$ arcsec. This unit is equivalent to"
   ]
  },
  {
   "cell_type": "code",
   "execution_count": 24,
   "metadata": {},
   "outputs": [
    {
     "data": {
      "text/latex": [
       "$206264.81 \\; \\mathrm{AU}$"
      ],
      "text/plain": [
       "<Quantity 206264.80624548 AU>"
      ]
     },
     "execution_count": 24,
     "metadata": {},
     "output_type": "execute_result"
    }
   ],
   "source": [
    "pc = d(1*u.arcsec)\n",
    "pc"
   ]
  },
  {
   "cell_type": "code",
   "execution_count": 25,
   "metadata": {
    "scrolled": true
   },
   "outputs": [
    {
     "data": {
      "text/latex": [
       "$1 \\; \\mathrm{pc}$"
      ],
      "text/plain": [
       "<Quantity 1. pc>"
      ]
     },
     "execution_count": 25,
     "metadata": {},
     "output_type": "execute_result"
    }
   ],
   "source": [
    "pc.to(u.pc)"
   ]
  },
  {
   "cell_type": "code",
   "execution_count": 26,
   "metadata": {},
   "outputs": [
    {
     "data": {
      "text/latex": [
       "$3.2615638 \\; \\mathrm{lyr}$"
      ],
      "text/plain": [
       "<Quantity 3.26156378 lyr>"
      ]
     },
     "execution_count": 26,
     "metadata": {},
     "output_type": "execute_result"
    }
   ],
   "source": [
    "pc.to(u.lyr)"
   ]
  },
  {
   "cell_type": "markdown",
   "metadata": {},
   "source": [
    "Today, parallax angles can be measured up to the order of milli-arcsec. This corresponds to distance of the order of kpc,"
   ]
  },
  {
   "cell_type": "code",
   "execution_count": 27,
   "metadata": {},
   "outputs": [
    {
     "data": {
      "text/latex": [
       "$1000 \\; \\mathrm{pc}$"
      ],
      "text/plain": [
       "<Quantity 1000.00000001 pc>"
      ]
     },
     "execution_count": 27,
     "metadata": {},
     "output_type": "execute_result"
    }
   ],
   "source": [
    "d(1*u.marcsec).to(u.pc)"
   ]
  },
  {
   "cell_type": "markdown",
   "metadata": {},
   "source": [
    "For far objects, for example at distances of the order of Mpc, the parallax method can not be used. Instead, methods such as relative brightness are used to estimate distances."
   ]
  },
  {
   "cell_type": "markdown",
   "metadata": {},
   "source": [
    "#### Example. $\\alpha$-Centauri ####\n",
    "The distance to $\\alpha$-Centauri in pc is"
   ]
  },
  {
   "cell_type": "code",
   "execution_count": 28,
   "metadata": {},
   "outputs": [
    {
     "data": {
      "text/latex": [
       "$1.3248367 \\; \\mathrm{pc}$"
      ],
      "text/plain": [
       "<Quantity 1.32483671 pc>"
      ]
     },
     "execution_count": 28,
     "metadata": {},
     "output_type": "execute_result"
    }
   ],
   "source": [
    "alphaCentauri_distance.to(u.pc)"
   ]
  },
  {
   "cell_type": "markdown",
   "metadata": {},
   "source": [
    "#### Example. 61 Cygni ####\n",
    "After 4 years of observation, in 1838 Bessel reported a parallax angle of $alpha=0.316$ arcsec for the star 61-Cygni. The distance to this star is "
   ]
  },
  {
   "cell_type": "code",
   "execution_count": 29,
   "metadata": {},
   "outputs": [
    {
     "data": {
      "text/latex": [
       "$652736.73 \\; \\mathrm{AU}$"
      ],
      "text/plain": [
       "<Quantity 652736.72862954 AU>"
      ]
     },
     "execution_count": 29,
     "metadata": {},
     "output_type": "execute_result"
    }
   ],
   "source": [
    "cygni_distance = d(0.316*u.arcsec)\n",
    "cygni_distance "
   ]
  },
  {
   "cell_type": "code",
   "execution_count": 30,
   "metadata": {},
   "outputs": [
    {
     "data": {
      "text/latex": [
       "$3.164557 \\; \\mathrm{pc}$"
      ],
      "text/plain": [
       "<Quantity 3.16455696 pc>"
      ]
     },
     "execution_count": 30,
     "metadata": {},
     "output_type": "execute_result"
    }
   ],
   "source": [
    "cygni_distance.to(u.pc)"
   ]
  },
  {
   "cell_type": "markdown",
   "metadata": {},
   "source": [
    "---\n",
    "## The Continuous Spectrum of Light\n",
    "**`Carroll and Ostlie (2017). Section 3.2`**"
   ]
  },
  {
   "cell_type": "markdown",
   "metadata": {},
   "source": [
    "### Apparent Magnitude ###\n",
    "\n",
    "The magnitude scale defined by the Hipparchus used numbers from $1$ to $6$ where $1$ corresponds to the brightest objects. Hence, the magnitude scale difference in the visual range is 5. This is known as the apparent magnitude ($m$).\n",
    "Today, we know that the magnitude scale difference $\\Delta m = 5$ corresponds to a brightness (luminous energy) ratio of about 100. This means that magnitudes are logaritmic measures of brightness (similar to the case of audio loudness in which decibels define a base 10 logarithmic scale). \n",
    "\n",
    "Concerning magnitudes, we can obtain the logarithm base $b$ of the scale by solving the equation\n",
    "\n",
    "\\begin{equation}\n",
    "b^{\\Delta m} = b^5 = 100\n",
    "\\end{equation}\n",
    "\n",
    "The `sympy` functions `Symbol` and `solve` gives the solution,"
   ]
  },
  {
   "cell_type": "code",
   "execution_count": 31,
   "metadata": {
    "scrolled": true
   },
   "outputs": [
    {
     "data": {
      "text/plain": [
       "[2.51188643150958,\n",
       " -2.03215881103109 - 1.4764497998749*I,\n",
       " -2.03215881103109 + 1.4764497998749*I,\n",
       " 0.776215595276303 - 2.38894595888057*I,\n",
       " 0.776215595276303 + 2.38894595888057*I]"
      ]
     },
     "execution_count": 31,
     "metadata": {},
     "output_type": "execute_result"
    }
   ],
   "source": [
    "from sympy import Symbol, solve\n",
    "b = Symbol('b')\n",
    "solve(100.-b**5, b)"
   ]
  },
  {
   "cell_type": "markdown",
   "metadata": {},
   "source": [
    "The real value corresponds to the logarithm base $b=2.51188643150958$. "
   ]
  },
  {
   "cell_type": "markdown",
   "metadata": {},
   "source": [
    "### Flux and Luminosity\n",
    "\n",
    "The modern measurement of \"brightness\" is given in terms of the **radiant flux** $F$, defined as the total amount of energy (in all wavelengths) crossing a unit area oriented perpendicular to the direction of the light ray per unit time. It is measured in Watts (Joules per second).\n",
    "\n",
    "$F$ depends on the **intrinsec luminosity** of the star, $L$, and the distance from the observer. The inverse square law for light states that\n",
    "\n",
    "\\begin{equation}\n",
    "F = \\frac{L}{4\\pi r^2}\n",
    "\\end{equation}"
   ]
  },
  {
   "cell_type": "markdown",
   "metadata": {},
   "source": [
    "The relation between flux and apparent magnitude is given by considering that a difference of $\\Delta m = m_1 - m_2 = 5$ correspond to a ratio of $100$ in the fluxes, i.e.\n",
    "\n",
    "\\begin{equation}\n",
    "\\frac{F_2}{F_1} = 100^{\\frac{\\Delta m}{5}}.\n",
    "\\end{equation}\n",
    "\n",
    "or inverting\n",
    "\n",
    "\\begin{equation}\n",
    "\\Delta m = m_1 - m_2 = - 2.5 \\log_{10} \\left( \\frac{F_1}{F_2} \\right)\n",
    "\\end{equation}\n",
    "\n",
    "\n",
    "Some examples of apparent magnitudes of stars are:\n",
    "\n",
    "| *Star*  |  $m$  |\n",
    "|:-------:|:-----:|\n",
    "| Sun     | -27   |\n",
    "|Sirius   | -1.46 |\n",
    "|Arcturus | -0.04 |\n",
    "|Aldebaran| 0.85  |\n",
    "|Spica    | 1.04  |\n",
    "|Procyon  | 0.34  |\n"
   ]
  },
  {
   "cell_type": "markdown",
   "metadata": {},
   "source": [
    "### Absolute Magnitude ###\n",
    "\n",
    "The absolute magnitude ($M$) describes the intrinsic luminosity emitted by an object and is defined to be equal to the apparent magnitude that the object would have if it were placed at a certain distance from Earth. Since there are no major stars within 1 parsec from the Sun, but there are many important stellar objects within 10 parsecs, it has been historically chosen a reference distance of 10 pc for stars. There exist a more complex definition of absolute magnitude for planets and otrher Solar System bodies.\n",
    "\n",
    "Then, the absolute magnitude is obtained from the apparent magnitude through\n",
    "\n",
    "\\begin{equation}\n",
    "M = m - 5(\\log_{10} D -1)\n",
    "\\end{equation}\n",
    "\n",
    "where $D$ stands for the object's distance measured in parsecs. Solving for $D$, we can write\n",
    "\n",
    "\\begin{equation}\n",
    "D = 10^\\frac{m - M + 5}{5}\n",
    "\\end{equation}"
   ]
  },
  {
   "cell_type": "markdown",
   "metadata": {},
   "source": [
    "#### Example. Absolute Magnitude of the Sun ####\n",
    "\n",
    "The Sun is located at a distance of $1$ au from Earth and its apparent magnitude is $m=-26.83$. Lets calculate its absolute magnitude"
   ]
  },
  {
   "cell_type": "code",
   "execution_count": 33,
   "metadata": {},
   "outputs": [],
   "source": [
    "def M(m,D):\n",
    "    '''\n",
    "    --------------------------------------------\n",
    "    M(m,D)\n",
    "    --------------------------------------------\n",
    "    Returns the absolute magnitude of a star.\n",
    "    \n",
    "    Arguments:\n",
    "    m: apparent magnitude\n",
    "    D: Distance to the Sun in parsecs\n",
    "    --------------------------------------------\n",
    "    '''\n",
    "    return m - 5*(np.log10(D) - 1)\n"
   ]
  },
  {
   "cell_type": "code",
   "execution_count": 34,
   "metadata": {},
   "outputs": [
    {
     "data": {
      "text/plain": [
       "4.742125665865284"
      ]
     },
     "execution_count": 34,
     "metadata": {},
     "output_type": "execute_result"
    }
   ],
   "source": [
    "D_sun = 1*u.au.to(u.pc)\n",
    "\n",
    "M(-26.83, D_sun)"
   ]
  },
  {
   "cell_type": "code",
   "execution_count": null,
   "metadata": {},
   "outputs": [],
   "source": []
  }
 ],
 "metadata": {
  "kernelspec": {
   "display_name": "Python 3",
   "language": "python",
   "name": "python3"
  },
  "language_info": {
   "codemirror_mode": {
    "name": "ipython",
    "version": 3
   },
   "file_extension": ".py",
   "mimetype": "text/x-python",
   "name": "python",
   "nbconvert_exporter": "python",
   "pygments_lexer": "ipython3",
   "version": "3.7.4"
  }
 },
 "nbformat": 4,
 "nbformat_minor": 2
}
