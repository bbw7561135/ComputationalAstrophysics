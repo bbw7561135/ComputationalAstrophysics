{
 "cells": [
  {
   "cell_type": "markdown",
   "metadata": {},
   "source": [
    "# Computational Astrophysics\n",
    "## 03. Fundamentals of Python. Classes and Objects\n",
    "\n",
    "---\n",
    "## Eduard Larrañaga\n",
    "\n",
    "Observatorio Astronómico Nacional\\\n",
    "Facultad de Ciencias\\\n",
    "Universidad Nacional de Colombia\n",
    "\n",
    "---"
   ]
  },
  {
   "cell_type": "markdown",
   "metadata": {},
   "source": [
    "### About this notebook\n",
    "\n",
    "In this notebook we present some of the fundamentals of classes and objects using `python`.\n",
    "\n",
    "---"
   ]
  },
  {
   "cell_type": "markdown",
   "metadata": {},
   "source": [
    "### Defining a Class"
   ]
  },
  {
   "cell_type": "markdown",
   "metadata": {},
   "source": [
    "#### Attributes\n",
    "To begin, we define a class called 'Planet' with three *attributes*. We use the class initialization definition to introduce these attributes."
   ]
  },
  {
   "cell_type": "code",
   "execution_count": 2,
   "metadata": {},
   "outputs": [],
   "source": [
    "class Planet(object):\n",
    "    def __init__ (self, planet_name, mass, orbit_period):\n",
    "        self.planet_name = planet_name\n",
    "        self.mass = mass # in units of Earth mass\n",
    "        self.orbit_period = orbit_period # in Earth years"
   ]
  },
  {
   "cell_type": "markdown",
   "metadata": {},
   "source": [
    "Now we can create an object using this class."
   ]
  },
  {
   "cell_type": "code",
   "execution_count": 3,
   "metadata": {},
   "outputs": [],
   "source": [
    "mars = Planet('Mars', 0.107, 1.88)"
   ]
  },
  {
   "cell_type": "markdown",
   "metadata": {},
   "source": [
    "The attributes of this object are easily obtained,"
   ]
  },
  {
   "cell_type": "code",
   "execution_count": 4,
   "metadata": {},
   "outputs": [
    {
     "data": {
      "text/plain": [
       "0.107"
      ]
     },
     "execution_count": 4,
     "metadata": {},
     "output_type": "execute_result"
    }
   ],
   "source": [
    "mars.mass"
   ]
  },
  {
   "cell_type": "code",
   "execution_count": 5,
   "metadata": {},
   "outputs": [
    {
     "data": {
      "text/plain": [
       "1.88"
      ]
     },
     "execution_count": 5,
     "metadata": {},
     "output_type": "execute_result"
    }
   ],
   "source": [
    "mars.orbit_period"
   ]
  },
  {
   "cell_type": "markdown",
   "metadata": {},
   "source": [
    "#### Methods"
   ]
  },
  {
   "cell_type": "markdown",
   "metadata": {},
   "source": [
    "Now we will define a class with both attributes and methods."
   ]
  },
  {
   "cell_type": "code",
   "execution_count": 6,
   "metadata": {},
   "outputs": [],
   "source": [
    "class Planet(object):\n",
    "    def __init__ (self, planet_name, mass, orbit_period):\n",
    "        self.planet_name = planet_name\n",
    "        self.mass = mass # in units of Earth mass\n",
    "        self.orbit_period = orbit_period # in Earth years\n",
    "    \n",
    "    def semimajor_axis(self):\n",
    "        '''\n",
    "        ------------------------------------------\n",
    "        semimajor_axis()\n",
    "        ------------------------------------------\n",
    "        Returns the value of the semimajor axis of \n",
    "        the planet in AU, calculated using \n",
    "        Kepler's third law.\n",
    "        ------------------------------------------\n",
    "        '''\n",
    "        return self.orbit_period**(2./3.)\n"
   ]
  },
  {
   "cell_type": "markdown",
   "metadata": {},
   "source": [
    "We define a planet using this class."
   ]
  },
  {
   "cell_type": "code",
   "execution_count": 7,
   "metadata": {},
   "outputs": [],
   "source": [
    "mars = Planet('Mars', 0.107, 1.88)"
   ]
  },
  {
   "cell_type": "markdown",
   "metadata": {},
   "source": [
    "The method is obtained by"
   ]
  },
  {
   "cell_type": "code",
   "execution_count": 8,
   "metadata": {},
   "outputs": [
    {
     "data": {
      "text/plain": [
       "1.5232524997793524"
      ]
     },
     "execution_count": 8,
     "metadata": {},
     "output_type": "execute_result"
    }
   ],
   "source": [
    "mars.semimajor_axis()"
   ]
  },
  {
   "cell_type": "markdown",
   "metadata": {},
   "source": [
    "For the Earth, we have"
   ]
  },
  {
   "cell_type": "code",
   "execution_count": 10,
   "metadata": {},
   "outputs": [
    {
     "data": {
      "text/plain": [
       "1.0"
      ]
     },
     "execution_count": 10,
     "metadata": {},
     "output_type": "execute_result"
    }
   ],
   "source": [
    "earth = Planet('Earth', 1., 1.)\n",
    "earth.semimajor_axis()"
   ]
  },
  {
   "cell_type": "markdown",
   "metadata": {},
   "source": [
    "Information of the methods of a class is obtained as usual:"
   ]
  },
  {
   "cell_type": "code",
   "execution_count": 12,
   "metadata": {},
   "outputs": [],
   "source": [
    "Planet.semimajor_axis?"
   ]
  },
  {
   "cell_type": "code",
   "execution_count": 13,
   "metadata": {},
   "outputs": [
    {
     "name": "stdout",
     "output_type": "stream",
     "text": [
      "\n",
      "        ------------------------------------------\n",
      "        semimajor_axis()\n",
      "        ------------------------------------------\n",
      "        Returns the value of the semimajor axis of \n",
      "        the planet in AU, calculated using \n",
      "        Kepler's third law.\n",
      "        ------------------------------------------\n",
      "        \n"
     ]
    }
   ],
   "source": [
    "print(Planet.semimajor_axis.__doc__)"
   ]
  },
  {
   "cell_type": "markdown",
   "metadata": {},
   "source": [
    "---\n",
    "### Defining a SubClass"
   ]
  },
  {
   "cell_type": "markdown",
   "metadata": {},
   "source": [
    "Once the class is defined, it can be used to define a subclass:"
   ]
  },
  {
   "cell_type": "code",
   "execution_count": 31,
   "metadata": {},
   "outputs": [],
   "source": [
    "class Planet(object):\n",
    "    def __init__ (self, planet_name, mass, orbit_period):\n",
    "        self.planet_name = planet_name\n",
    "        self.mass = mass # in units of Earth mass\n",
    "        self.orbit_period = orbit_period # in Earth years\n",
    "    \n",
    "    def semimajor_axis(self):\n",
    "        '''\n",
    "        ------------------------------------------\n",
    "        semimajor_axis()\n",
    "        ------------------------------------------\n",
    "        Returns the value of the semimajor axis of \n",
    "        the planet in AU, calculated using \n",
    "        Kepler's third law.\n",
    "        ------------------------------------------\n",
    "        '''\n",
    "        return self.orbit_period**(2./3.)\n",
    "    \n",
    "\n",
    "class Dwarf(Planet):\n",
    "    def description(self):\n",
    "        '''\n",
    "        ------------------------------------------\n",
    "        description()\n",
    "        ------------------------------------------\n",
    "        Returns a string with the information of \n",
    "        the mass of the dwarf planet.\n",
    "        ------------------------------------------\n",
    "        '''\n",
    "        descrip = self.planet_name + ' is a dwarf planet with a mass of ' \\\n",
    "                    + str(self.mass) + ' Earth masses.'\n",
    "        return descrip"
   ]
  },
  {
   "cell_type": "markdown",
   "metadata": {},
   "source": [
    "Define Pluto as a dwarf planet:"
   ]
  },
  {
   "cell_type": "code",
   "execution_count": 26,
   "metadata": {
    "scrolled": true
   },
   "outputs": [],
   "source": [
    "pluto = Dwarf('Pluto', 0.00218, 248.00)"
   ]
  },
  {
   "cell_type": "markdown",
   "metadata": {},
   "source": [
    "We can access all the attributes and methods of the 'Planet' class as well as those of the 'Dwarf' class."
   ]
  },
  {
   "cell_type": "code",
   "execution_count": 27,
   "metadata": {},
   "outputs": [
    {
     "data": {
      "text/plain": [
       "0.00218"
      ]
     },
     "execution_count": 27,
     "metadata": {},
     "output_type": "execute_result"
    }
   ],
   "source": [
    "pluto.mass"
   ]
  },
  {
   "cell_type": "code",
   "execution_count": 28,
   "metadata": {},
   "outputs": [
    {
     "data": {
      "text/plain": [
       "39.47308961287589"
      ]
     },
     "execution_count": 28,
     "metadata": {},
     "output_type": "execute_result"
    }
   ],
   "source": [
    "pluto.semimajor_axis()"
   ]
  },
  {
   "cell_type": "code",
   "execution_count": 30,
   "metadata": {},
   "outputs": [
    {
     "data": {
      "text/plain": [
       "'Pluto is a dwarf planet with a mass of 0.00218 Earth masses.'"
      ]
     },
     "execution_count": 30,
     "metadata": {},
     "output_type": "execute_result"
    }
   ],
   "source": [
    "pluto.description()"
   ]
  },
  {
   "cell_type": "code",
   "execution_count": null,
   "metadata": {},
   "outputs": [],
   "source": []
  }
 ],
 "metadata": {
  "kernelspec": {
   "display_name": "Python 3",
   "language": "python",
   "name": "python3"
  },
  "language_info": {
   "codemirror_mode": {
    "name": "ipython",
    "version": 3
   },
   "file_extension": ".py",
   "mimetype": "text/x-python",
   "name": "python",
   "nbconvert_exporter": "python",
   "pygments_lexer": "ipython3",
   "version": "3.7.4"
  }
 },
 "nbformat": 4,
 "nbformat_minor": 2
}
