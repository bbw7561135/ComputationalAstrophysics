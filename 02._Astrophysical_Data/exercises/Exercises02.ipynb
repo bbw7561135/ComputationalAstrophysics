{
 "cells": [
  {
   "cell_type": "markdown",
   "metadata": {},
   "source": [
    "# Computational Astrophysics\n",
    "## Exercises 02."
   ]
  },
  {
   "cell_type": "markdown",
   "metadata": {},
   "source": [
    "**Name:** \n",
    "\n",
    "---"
   ]
  },
  {
   "cell_type": "markdown",
   "metadata": {},
   "source": [
    "## 1. Imagen de NGC1300\n",
    "\n",
    "We will use a .fits image of galaxy NGC1300 obtained from the SIMBAD Database. Go to\n",
    "\n",
    "http://cdsportal.u-strasbg.fr/?target=NGC1300\n",
    "\n",
    "In the Tabular Data section, click on the VizieR images tab and download the images corresponding to the filters\n",
    "\n",
    "B (Effective Wavelength midpoint: $445$ nm [blue])\n",
    "\n",
    "I (Effective Wavelength midpoint: $806$ nm [near IR])\n",
    "\n",
    "K (Effective Wavelength midpoint: $2190$ nm [near IR])\n",
    "\n",
    "Obtain a rgb-compound image of the galaxy. Try different values for the parameters *Q* and *stretch* in the `make_lupton_rgb` function until you obtain a good looking image."
   ]
  },
  {
   "cell_type": "markdown",
   "metadata": {},
   "source": [
    "---\n",
    "\n",
    "## 2. Color-Color Diagram of a Stars sample\n",
    "**`Carroll and Ostlie (2017). Section 3.6`**\n",
    "\n",
    "1. Use SkyServer's Object Explorer\n",
    "\n",
    "https://skyserver.sdss.org/dr1/en/tools/explore/obj.asp?ra=179.88431&dec=-0.282125\n",
    "\n",
    "to find the stars with the following object IDs in the SDSS database. Look at the object's magnitudes in SDSS's five filters - they are the quantities u, g, r, i, and z in the second row next to the object's image. \n",
    "\n",
    "| Object ID  | RA  | Dec  |\n",
    "| :---: | :---: | :---: |\n",
    "| 582093483279581263 | 179.88431 | -0.28125|\n",
    "| 582093483279581296 | 179.94806 | -0.2724 |\n",
    "| 582093482742710367 | 179.97106 | -0.82002|\n",
    "| 582093499934703623 | 179.8339  | -0.55558|\n",
    "| 582093499934703856 | 179.89941 | -0.61227|\n",
    "| 582093499934703933 | 179.97446 | -0.55081|\n",
    "| 582093499934703813 | 179.85499 | -0.4708 |\n",
    "| 582093499934703876 | 179.91213 | -0.50101|\n",
    "| 582093499934703941 | 179.97887 |-0.57861 |\n",
    "| 582093483279515723 | 179.789   | -0.29908|\n",
    "| 582093499934834837 | 180.20067 |-0.57081 |\n",
    "| 582093483279646824 | 180.10892 | -0.34719|\n",
    "| 582093482742775943 | 180.11286 |-0.77366 |\n",
    "| 582093482742775905 | 180.10103 | -0.64383|\n",
    "| 582093482742710369 | 179.97602 |-0.66007 |\n",
    "| 582093499934834834 | 180.19612 |-0.47336 |\n",
    "| 582093482742775953 | 180.16034 |-0.72755 |\n",
    "\n",
    "2. Save the data for the stars including the object ID and the five magnitudes of each star as a .txt and as a .csv files.\n",
    "\n",
    "3. Find the *g-r*, *r-i*, *u-g* and *i-z* colors of each of the 17 stars.\n",
    "\n",
    "4. Make a color-color diagram of the 17 stars, with *g-r* on the x-axis and *r-i* on the y-axis.\n",
    "\n",
    "5. Which end of the line in your graph corresponds to hotter stars? Which corresponds to cooler stars? How do you know?\n",
    "\n",
    "**Hint:** Your graph will show that hotter stars tend to follow the trend of a straight line, but cooler stars diverge from this trend. This means that hotter stars can be thought of as thermal sources, but cooler stars can not.\n",
    "\n",
    "6. Make another color-color diagram of the 17 stars, with *u-g* on the x-axis and *g-r* on the y-axis. Once again, the hottest stars follow a linear trend, meaning they can be thought of as thermal sources. But in the *u-g/g-r* diagram, where does this trend begin to break down? What is the significance of this observation for thinking about real stars as thermal sources?\n",
    "\n",
    "7. If you know about stellar evolution you can answer this question. What is the significance of the flat line at the top of the *u-g/g-r* diagram? What types of stars are these?\n",
    "\n",
    "**Hint:** What does it mean for *g-r* to be constant as *u-g* changes?\n",
    "\n"
   ]
  },
  {
   "cell_type": "markdown",
   "metadata": {},
   "source": [
    "---\n",
    "\n",
    "## 3. Color-color Diagram of a Galaxies sample\n",
    "**`Carroll and Ostlie (2017). Section 4.2`**<br>\n",
    "**`Ivezic et. al. (2014). Section 1.5.3`**\n",
    "\n",
    "In this exercise we will retrive a sampe of approximately 330000 galaxies from the SDSS database using the package `astroML`. Instead of entering the SDSS database directly we will use the dataset incorporated in the `astroML` package, which can be accesed "
   ]
  },
  {
   "cell_type": "code",
   "execution_count": 4,
   "metadata": {},
   "outputs": [],
   "source": [
    "from astroML.datasets import fetch_imaging_sample\n",
    "data = fetch_imaging_sample()"
   ]
  },
  {
   "cell_type": "markdown",
   "metadata": {},
   "source": [
    "**Important Note: The first time that you call this command, the code will send a http request and download the data from the web and this may be time consuming! On subsequent calls, the data will be loaded from the local disk.**"
   ]
  },
  {
   "cell_type": "markdown",
   "metadata": {},
   "source": [
    "The command above stored the information in the array `data`. The shape of this array is"
   ]
  },
  {
   "cell_type": "code",
   "execution_count": 6,
   "metadata": {},
   "outputs": [
    {
     "data": {
      "text/plain": [
       "(330753,)"
      ]
     },
     "execution_count": 6,
     "metadata": {},
     "output_type": "execute_result"
    }
   ],
   "source": [
    "data.shape"
   ]
  },
  {
   "cell_type": "markdown",
   "metadata": {},
   "source": [
    "This menas that we have 330753 objects in the dataset. The names of the stored attributes of these objects can be accesed via the `dtype` attribute,"
   ]
  },
  {
   "cell_type": "code",
   "execution_count": 8,
   "metadata": {},
   "outputs": [
    {
     "data": {
      "text/plain": [
       "('ra',\n",
       " 'dec',\n",
       " 'run',\n",
       " 'rExtSFD',\n",
       " 'uRaw',\n",
       " 'gRaw',\n",
       " 'rRaw',\n",
       " 'iRaw',\n",
       " 'zRaw',\n",
       " 'uErr',\n",
       " 'gErr',\n",
       " 'rErr',\n",
       " 'iErr',\n",
       " 'zErr',\n",
       " 'uRawPSF',\n",
       " 'gRawPSF',\n",
       " 'rRawPSF',\n",
       " 'iRawPSF',\n",
       " 'zRawPSF',\n",
       " 'upsfErr',\n",
       " 'gpsfErr',\n",
       " 'rpsfErr',\n",
       " 'ipsfErr',\n",
       " 'zpsfErr',\n",
       " 'type',\n",
       " 'ISOLATED')"
      ]
     },
     "execution_count": 8,
     "metadata": {},
     "output_type": "execute_result"
    }
   ],
   "source": [
    "data.dtype.names"
   ]
  },
  {
   "cell_type": "markdown",
   "metadata": {},
   "source": [
    "These features include the coordinates\n",
    "\n",
    "'ra': right ascnesion\\\n",
    "'dec': declination\\\n",
    "'rExtSFD': r band extinsion from SFD\\\n",
    "'uRaw': raw photometric data in the u band\\\n",
    "'gRaw': raw photometric data in the g band\\\n",
    "'rRaw': raw photometric data in the r band\\\n",
    "'iRaw': raw photometric data in the i band\\\n",
    "'zRaw': raw photometric data in the z band\\\n",
    "'uErr': error data in the u band\\\n",
    "...\n",
    "\n",
    "etc.\n",
    "\n",
    "This dataset includes objects of the `'type' = 3` (mostly galaxies) and `'type' = 6` (mostly stars and quasars) according to the classification of the SDSS database."
   ]
  },
  {
   "cell_type": "markdown",
   "metadata": {},
   "source": [
    "Data from each feature can be easily accesed. For example, the right ascension of the first 10 samples are"
   ]
  },
  {
   "cell_type": "code",
   "execution_count": 9,
   "metadata": {},
   "outputs": [
    {
     "data": {
      "text/plain": [
       "array([0.358174, 0.358382, 0.357898, 0.35791 , 0.358881, 0.162688,\n",
       "       0.142353, 0.142009, 0.121992, 0.221928])"
      ]
     },
     "execution_count": 9,
     "metadata": {},
     "output_type": "execute_result"
    }
   ],
   "source": [
    "data['ra'][:10]"
   ]
  },
  {
   "cell_type": "markdown",
   "metadata": {},
   "source": [
    "We can extract some of the data from the loaded dataset. For example, lets extract the first 5000 objects of the type 6 (stars and quasars),"
   ]
  },
  {
   "cell_type": "code",
   "execution_count": 10,
   "metadata": {},
   "outputs": [
    {
     "data": {
      "text/plain": [
       "(5000,)"
      ]
     },
     "execution_count": 10,
     "metadata": {},
     "output_type": "execute_result"
    }
   ],
   "source": [
    "stars = data[data['type'] == 6][:5000]\n",
    "stars.shape"
   ]
  },
  {
   "cell_type": "code",
   "execution_count": 11,
   "metadata": {},
   "outputs": [
    {
     "data": {
      "text/plain": [
       "('ra',\n",
       " 'dec',\n",
       " 'run',\n",
       " 'rExtSFD',\n",
       " 'uRaw',\n",
       " 'gRaw',\n",
       " 'rRaw',\n",
       " 'iRaw',\n",
       " 'zRaw',\n",
       " 'uErr',\n",
       " 'gErr',\n",
       " 'rErr',\n",
       " 'iErr',\n",
       " 'zErr',\n",
       " 'uRawPSF',\n",
       " 'gRawPSF',\n",
       " 'rRawPSF',\n",
       " 'iRawPSF',\n",
       " 'zRawPSF',\n",
       " 'upsfErr',\n",
       " 'gpsfErr',\n",
       " 'rpsfErr',\n",
       " 'ipsfErr',\n",
       " 'zpsfErr',\n",
       " 'type',\n",
       " 'ISOLATED')"
      ]
     },
     "execution_count": 11,
     "metadata": {},
     "output_type": "execute_result"
    }
   ],
   "source": [
    "stars.dtype.names"
   ]
  },
  {
   "cell_type": "markdown",
   "metadata": {},
   "source": [
    "1. Create a color-magnitude diagram for the first 5000 stars in the dataset, plotting the $g-r$ color in the x-axis vs. the $r$ magnitude in the y-axis.\n",
    "\n",
    "2. Create a color-color diagram for the first 5000 stars in the dataset, plotting the $g-r$ color in the x-axis vs. the $r-i$ color in the y-axis.\n",
    "\n",
    "3. Create a color-magnitude diagram for the first 5000 galaxies in the dataset, plotting the $g-r$ color in the x-axis vs. the $r$ magnitude in the y-axis.\n",
    "\n",
    "4. Create a color-color diagram for the first 5000 galaxies in the dataset, plotting the $g-r$ color in the x-axis vs. the $r-i$ color in the y-axis.\n",
    "\n",
    "**Hint:** For a better visualization, it is useful to invert the magnitude axis."
   ]
  },
  {
   "cell_type": "markdown",
   "metadata": {},
   "source": [
    "---\n",
    "## 4. Spectroscopic Binary Data\n",
    "**`Griffin, R.F. Obs. 130, p.358 (2010). Table VI`**\n",
    "https://ui.adsabs.harvard.edu/abs/2010Obs...130..349G/abstract\n",
    "\n",
    "\n",
    "Spectroscopic binary data both single line and double line was published in the journal \"The Observatory\" by R.F. Griffin as a long series of papers, describing the continuous work by Yoss and Griffin (1997, JA and A., 18,161). \n",
    "\n",
    "The observations have been obtained with photoelectric spectrum scanners and many of very long period have been published recently. \n",
    "\n",
    "The paper No. 211, Griffin, R.F. Obs. 130, p.358 (2010), includes data for the stars HD128642, HD144601, HD150172, and HD155641. In particular, the information in the Table VI, which reports the radial velocities of HD108613 recorded from 1973 to 2010 is given in the file HD108613.csv (it includes the Julian Date and radial velocity in km/s). No spectrum type is available and there is evidence of photometric variability of unknown origin. \n",
    "\n",
    "1. Use the data from file HD108613.csv to plot the radial velocity as function of the Julian date. Can you estimate the period of motion of this system?\n"
   ]
  },
  {
   "cell_type": "markdown",
   "metadata": {},
   "source": [
    "¡¡ Happy Coding !!"
   ]
  }
 ],
 "metadata": {
  "kernelspec": {
   "display_name": "Python 3",
   "language": "python",
   "name": "python3"
  },
  "language_info": {
   "codemirror_mode": {
    "name": "ipython",
    "version": 3
   },
   "file_extension": ".py",
   "mimetype": "text/x-python",
   "name": "python",
   "nbconvert_exporter": "python",
   "pygments_lexer": "ipython3",
   "version": "3.7.4"
  }
 },
 "nbformat": 4,
 "nbformat_minor": 2
}
