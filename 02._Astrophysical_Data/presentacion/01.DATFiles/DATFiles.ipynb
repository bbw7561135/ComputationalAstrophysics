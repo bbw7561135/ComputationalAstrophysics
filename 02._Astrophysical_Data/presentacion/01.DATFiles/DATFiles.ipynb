{
 "cells": [
  {
   "cell_type": "markdown",
   "metadata": {},
   "source": [
    "# Computational Astrophysics\n",
    "## 01. Reading .dat + ReadMe files\n",
    "---\n",
    "## Eduard Larrañaga\n",
    "\n",
    "Observatorio Astronómico Nacional\\\n",
    "Facultad de Ciencias\\\n",
    "Universidad Nacional de Colombia\n",
    "\n",
    "---"
   ]
  },
  {
   "cell_type": "markdown",
   "metadata": {},
   "source": [
    "### About this notebook\n",
    "\n",
    "In this worksheet we use the `astropy.io` package to read a dataset given in a .dat file (ascii format) together with a ReadMe file containing the metadata. \n",
    "\n",
    "---"
   ]
  },
  {
   "cell_type": "markdown",
   "metadata": {},
   "source": [
    "### Reading the data\n",
    "\n",
    "Consider the dataset reported by Greene and Ho (2006), containing the features of 88 galaxies. \n",
    "\n",
    "Greene, J. E. and Ho, L. C. *The MBH − σ∗ Relation in Local Active Galaxies*. ApJ 641 L21 (2006)\n",
    "https://ui.adsabs.harvard.edu/abs/2006ApJ...641L..21G/abstract\n",
    "\n",
    "The dataset is available online in various formats at\n",
    "\n",
    "http://vizier.cfa.harvard.edu/viz-bin/VizieR?-source=J/ApJ/641/L21.\n",
    "\n",
    "Click on the ReadMe+ftp link and then, download the files in the FTP tab.\n",
    "\n",
    "---\n",
    "\n",
    "### Open the .dat+ReadMe files.\n",
    "\n",
    "We will read the data from a .dat file (in ascii format) and a ReadMe file containing the tags using the command `ascii` from `astropy.io`. Detailed information about this function can be found at\n",
    "\n",
    "https://docs.astropy.org/en/stable/io/ascii/\n",
    " "
   ]
  },
  {
   "cell_type": "code",
   "execution_count": null,
   "metadata": {},
   "outputs": [],
   "source": [
    "import numpy as np\n",
    "from astropy.io import ascii"
   ]
  },
  {
   "cell_type": "code",
   "execution_count": 2,
   "metadata": {},
   "outputs": [
    {
     "name": "stderr",
     "output_type": "stream",
     "text": [
      "WARNING: UnitsWarning: '[10-7W]' did not parse as cds unit: Invalid character at col 0 [astropy.units.core]\n",
      "WARNING: UnitsWarning: '[solMass]' did not parse as cds unit: Invalid character at col 0 [astropy.units.core]\n"
     ]
    },
    {
     "data": {
      "text/html": [
       "<i>Table masked=True length=88</i>\n",
       "<table id=\"table4732536400\" class=\"table-striped table-bordered table-condensed\">\n",
       "<thead><tr><th>Name</th><th>z</th><th>sigma*</th><th>e_sigma*</th><th>n_sigma*</th><th>FWHM</th><th>e_FWHM</th><th>logL</th><th>e_logL</th><th>logM</th><th>E_logM</th><th>e_logM</th></tr></thead>\n",
       "<thead><tr><th></th><th></th><th>km / s</th><th>km / s</th><th></th><th>km / s</th><th>km / s</th><th>[10-7W]</th><th>[10-7W]</th><th>[solMass]</th><th>[solMass]</th><th>[solMass]</th></tr></thead>\n",
       "<thead><tr><th>str24</th><th>float64</th><th>float64</th><th>float64</th><th>str1</th><th>int64</th><th>int64</th><th>float64</th><th>float64</th><th>float64</th><th>float64</th><th>float64</th></tr></thead>\n",
       "<tr><td>SDSS J000805.62+145023.4</td><td>0.0454</td><td>140.0</td><td>27.0</td><td>--</td><td>7610</td><td>380</td><td>41.13</td><td>0.04</td><td>7.7</td><td>--</td><td>0.1</td></tr>\n",
       "<tr><td>SDSS J004236.86-104921.8</td><td>0.0419</td><td>78.4</td><td>10.0</td><td>--</td><td>1960</td><td>97</td><td>41.58</td><td>0.14</td><td>6.7</td><td>--</td><td>0.1</td></tr>\n",
       "<tr><td>SDSS J011703.58+000027.3</td><td>0.0456</td><td>98.8</td><td>16.0</td><td>--</td><td>2270</td><td>110</td><td>41.45</td><td>0.08</td><td>6.8</td><td>--</td><td>0.1</td></tr>\n",
       "<tr><td>SDSS J020459.25-080816.0</td><td>0.0772</td><td>121.0</td><td>9.4</td><td>a</td><td>3720</td><td>180</td><td>41.13</td><td>0.05</td><td>7.0</td><td>--</td><td>0.1</td></tr>\n",
       "<tr><td>SDSS J020615.99-001729.1</td><td>0.0426</td><td>216.0</td><td>30.0</td><td>--</td><td>3860</td><td>190</td><td>41.91</td><td>0.07</td><td>7.5</td><td>--</td><td>0.1</td></tr>\n",
       "<tr><td>SDSS J021011.49-090335.5</td><td>0.0414</td><td>122.0</td><td>12.0</td><td>a</td><td>2450</td><td>120</td><td>41.24</td><td>0.07</td><td>6.7</td><td>--</td><td>0.1</td></tr>\n",
       "<tr><td>SDSS J021257.59+140610.1</td><td>0.0618</td><td>174.0</td><td>12.0</td><td>a</td><td>3080</td><td>150</td><td>41.58</td><td>0.06</td><td>7.1</td><td>--</td><td>0.1</td></tr>\n",
       "<tr><td>SDSS J033013.26-053236.0</td><td>0.0131</td><td>99.2</td><td>11.0</td><td>--</td><td>5160</td><td>250</td><td>40.45</td><td>0.06</td><td>7.0</td><td>--</td><td>0.1</td></tr>\n",
       "<tr><td>SDSS J075057.25+353037.5</td><td>0.176</td><td>154.0</td><td>14.0</td><td>a</td><td>2970</td><td>200</td><td>41.63</td><td>0.03</td><td>7.2</td><td>--</td><td>0.1</td></tr>\n",
       "<tr><td>...</td><td>...</td><td>...</td><td>...</td><td>...</td><td>...</td><td>...</td><td>...</td><td>...</td><td>...</td><td>...</td><td>...</td></tr>\n",
       "<tr><td>Mrk 817</td><td>0.0315</td><td>127.0</td><td>12.0</td><td>--</td><td>--</td><td>--</td><td>--</td><td>--</td><td>7.62</td><td>0.08</td><td>0.1</td></tr>\n",
       "<tr><td>NGC 3227</td><td>0.00386</td><td>135.0</td><td>3.8</td><td>--</td><td>--</td><td>--</td><td>--</td><td>--</td><td>7.47</td><td>0.24</td><td>1.06</td></tr>\n",
       "<tr><td>NGC 3516</td><td>0.00884</td><td>181.0</td><td>4.9</td><td>b</td><td>--</td><td>--</td><td>--</td><td>--</td><td>7.04</td><td>0.31</td><td>0.39</td></tr>\n",
       "<tr><td>NGC 3783</td><td>0.00973</td><td>95.0</td><td>10.0</td><td>--</td><td>--</td><td>--</td><td>--</td><td>--</td><td>7.16</td><td>0.17</td><td>0.23</td></tr>\n",
       "<tr><td>NGC 4051</td><td>0.00234</td><td>88.9</td><td>2.9</td><td>--</td><td>--</td><td>--</td><td>--</td><td>--</td><td>5.99</td><td>0.17</td><td>0.2</td></tr>\n",
       "<tr><td>NGC 4151</td><td>0.00332</td><td>96.8</td><td>2.9</td><td>--</td><td>--</td><td>--</td><td>--</td><td>--</td><td>6.91</td><td>0.17</td><td>0.29</td></tr>\n",
       "<tr><td>NGC 5548</td><td>0.0172</td><td>198.0</td><td>11.0</td><td>--</td><td>--</td><td>--</td><td>--</td><td>--</td><td>7.81</td><td>0.02</td><td>0.02</td></tr>\n",
       "<tr><td>NGC 7469</td><td>0.0163</td><td>133.0</td><td>4.8</td><td>--</td><td>--</td><td>--</td><td>--</td><td>--</td><td>6.49</td><td>0.16</td><td>0.27</td></tr>\n",
       "<tr><td>POX 52</td><td>0.0218</td><td>36.0</td><td>5.0</td><td>--</td><td>--</td><td>--</td><td>--</td><td>--</td><td>5.2</td><td>--</td><td>0.3</td></tr>\n",
       "<tr><td>NGC 4395</td><td>0.000947</td><td>30.0</td><td>5.0</td><td>--</td><td>--</td><td>--</td><td>--</td><td>--</td><td>4.9</td><td>--</td><td>0.4</td></tr>\n",
       "</table>"
      ],
      "text/plain": [
       "<Table masked=True length=88>\n",
       "          Name              z      sigma* ...    logM     E_logM    e_logM \n",
       "                                   km / s ... [solMass] [solMass] [solMass]\n",
       "         str24           float64  float64 ...  float64   float64   float64 \n",
       "------------------------ -------- ------- ... --------- --------- ---------\n",
       "SDSS J000805.62+145023.4   0.0454   140.0 ...       7.7        --       0.1\n",
       "SDSS J004236.86-104921.8   0.0419    78.4 ...       6.7        --       0.1\n",
       "SDSS J011703.58+000027.3   0.0456    98.8 ...       6.8        --       0.1\n",
       "SDSS J020459.25-080816.0   0.0772   121.0 ...       7.0        --       0.1\n",
       "SDSS J020615.99-001729.1   0.0426   216.0 ...       7.5        --       0.1\n",
       "SDSS J021011.49-090335.5   0.0414   122.0 ...       6.7        --       0.1\n",
       "SDSS J021257.59+140610.1   0.0618   174.0 ...       7.1        --       0.1\n",
       "SDSS J033013.26-053236.0   0.0131    99.2 ...       7.0        --       0.1\n",
       "SDSS J075057.25+353037.5    0.176   154.0 ...       7.2        --       0.1\n",
       "                     ...      ...     ... ...       ...       ...       ...\n",
       "                 Mrk 817   0.0315   127.0 ...      7.62      0.08       0.1\n",
       "                NGC 3227  0.00386   135.0 ...      7.47      0.24      1.06\n",
       "                NGC 3516  0.00884   181.0 ...      7.04      0.31      0.39\n",
       "                NGC 3783  0.00973    95.0 ...      7.16      0.17      0.23\n",
       "                NGC 4051  0.00234    88.9 ...      5.99      0.17       0.2\n",
       "                NGC 4151  0.00332    96.8 ...      6.91      0.17      0.29\n",
       "                NGC 5548   0.0172   198.0 ...      7.81      0.02      0.02\n",
       "                NGC 7469   0.0163   133.0 ...      6.49      0.16      0.27\n",
       "                  POX 52   0.0218    36.0 ...       5.2        --       0.3\n",
       "                NGC 4395 0.000947    30.0 ...       4.9        --       0.4"
      ]
     },
     "execution_count": 2,
     "metadata": {},
     "output_type": "execute_result"
    }
   ],
   "source": [
    "data = ascii.read('table1.dat', readme='ReadMe')\n",
    "data"
   ]
  },
  {
   "cell_type": "markdown",
   "metadata": {},
   "source": [
    "Note that the file contains a table with 88 samples and 12 features, including 'Name', 'z', 'sigma*', etc."
   ]
  },
  {
   "cell_type": "markdown",
   "metadata": {},
   "source": [
    "---\n",
    "It is possible to access the data using the feature names"
   ]
  },
  {
   "cell_type": "code",
   "execution_count": 9,
   "metadata": {},
   "outputs": [
    {
     "data": {
      "text/html": [
       "&lt;MaskedColumn name=&apos;Name&apos; dtype=&apos;str24&apos; description=&apos;Source identification&apos; length=88&gt;\n",
       "<table>\n",
       "<tr><td>SDSS J000805.62+145023.4</td></tr>\n",
       "<tr><td>SDSS J004236.86-104921.8</td></tr>\n",
       "<tr><td>SDSS J011703.58+000027.3</td></tr>\n",
       "<tr><td>SDSS J020459.25-080816.0</td></tr>\n",
       "<tr><td>SDSS J020615.99-001729.1</td></tr>\n",
       "<tr><td>SDSS J021011.49-090335.5</td></tr>\n",
       "<tr><td>SDSS J021257.59+140610.1</td></tr>\n",
       "<tr><td>SDSS J033013.26-053236.0</td></tr>\n",
       "<tr><td>SDSS J075057.25+353037.5</td></tr>\n",
       "<tr><td>SDSS J080243.39+310403.3</td></tr>\n",
       "<tr><td>SDSS J080538.66+261005.4</td></tr>\n",
       "<tr><td>SDSS J082510.23+375919.7</td></tr>\n",
       "<tr><td>...</td></tr>\n",
       "<tr><td>Mrk 279</td></tr>\n",
       "<tr><td>Mrk 590</td></tr>\n",
       "<tr><td>Mrk 817</td></tr>\n",
       "<tr><td>NGC 3227</td></tr>\n",
       "<tr><td>NGC 3516</td></tr>\n",
       "<tr><td>NGC 3783</td></tr>\n",
       "<tr><td>NGC 4051</td></tr>\n",
       "<tr><td>NGC 4151</td></tr>\n",
       "<tr><td>NGC 5548</td></tr>\n",
       "<tr><td>NGC 7469</td></tr>\n",
       "<tr><td>POX 52</td></tr>\n",
       "<tr><td>NGC 4395</td></tr>\n",
       "</table>"
      ],
      "text/plain": [
       "<MaskedColumn name='Name' dtype='str24' description='Source identification' length=88>\n",
       "SDSS J000805.62+145023.4\n",
       "SDSS J004236.86-104921.8\n",
       "SDSS J011703.58+000027.3\n",
       "SDSS J020459.25-080816.0\n",
       "SDSS J020615.99-001729.1\n",
       "SDSS J021011.49-090335.5\n",
       "SDSS J021257.59+140610.1\n",
       "SDSS J033013.26-053236.0\n",
       "SDSS J075057.25+353037.5\n",
       "SDSS J080243.39+310403.3\n",
       "SDSS J080538.66+261005.4\n",
       "SDSS J082510.23+375919.7\n",
       "                     ...\n",
       "                 Mrk 279\n",
       "                 Mrk 590\n",
       "                 Mrk 817\n",
       "                NGC 3227\n",
       "                NGC 3516\n",
       "                NGC 3783\n",
       "                NGC 4051\n",
       "                NGC 4151\n",
       "                NGC 5548\n",
       "                NGC 7469\n",
       "                  POX 52\n",
       "                NGC 4395"
      ]
     },
     "execution_count": 9,
     "metadata": {},
     "output_type": "execute_result"
    }
   ],
   "source": [
    "data['Name']"
   ]
  },
  {
   "cell_type": "code",
   "execution_count": 10,
   "metadata": {},
   "outputs": [
    {
     "data": {
      "text/html": [
       "&lt;MaskedColumn name=&apos;z&apos; dtype=&apos;float64&apos; description=&apos;Redshift&apos; length=88&gt;\n",
       "<table>\n",
       "<tr><td>0.0454</td></tr>\n",
       "<tr><td>0.0419</td></tr>\n",
       "<tr><td>0.0456</td></tr>\n",
       "<tr><td>0.0772</td></tr>\n",
       "<tr><td>0.0426</td></tr>\n",
       "<tr><td>0.0414</td></tr>\n",
       "<tr><td>0.0618</td></tr>\n",
       "<tr><td>0.0131</td></tr>\n",
       "<tr><td>0.176</td></tr>\n",
       "<tr><td>0.0409</td></tr>\n",
       "<tr><td>0.017</td></tr>\n",
       "<tr><td>0.0214</td></tr>\n",
       "<tr><td>...</td></tr>\n",
       "<tr><td>0.0305</td></tr>\n",
       "<tr><td>0.0264</td></tr>\n",
       "<tr><td>0.0315</td></tr>\n",
       "<tr><td>0.00386</td></tr>\n",
       "<tr><td>0.00884</td></tr>\n",
       "<tr><td>0.00973</td></tr>\n",
       "<tr><td>0.00234</td></tr>\n",
       "<tr><td>0.00332</td></tr>\n",
       "<tr><td>0.0172</td></tr>\n",
       "<tr><td>0.0163</td></tr>\n",
       "<tr><td>0.0218</td></tr>\n",
       "<tr><td>0.000947</td></tr>\n",
       "</table>"
      ],
      "text/plain": [
       "<MaskedColumn name='z' dtype='float64' description='Redshift' length=88>\n",
       "  0.0454\n",
       "  0.0419\n",
       "  0.0456\n",
       "  0.0772\n",
       "  0.0426\n",
       "  0.0414\n",
       "  0.0618\n",
       "  0.0131\n",
       "   0.176\n",
       "  0.0409\n",
       "   0.017\n",
       "  0.0214\n",
       "     ...\n",
       "  0.0305\n",
       "  0.0264\n",
       "  0.0315\n",
       " 0.00386\n",
       " 0.00884\n",
       " 0.00973\n",
       " 0.00234\n",
       " 0.00332\n",
       "  0.0172\n",
       "  0.0163\n",
       "  0.0218\n",
       "0.000947"
      ]
     },
     "execution_count": 10,
     "metadata": {},
     "output_type": "execute_result"
    }
   ],
   "source": [
    "data['z']"
   ]
  },
  {
   "cell_type": "markdown",
   "metadata": {},
   "source": [
    "It is also possible to access a complete sample,"
   ]
  },
  {
   "cell_type": "code",
   "execution_count": 11,
   "metadata": {},
   "outputs": [
    {
     "data": {
      "text/html": [
       "<i>Row index=1 masked=True</i>\n",
       "<table id=\"table4732536400\">\n",
       "<thead><tr><th>Name</th><th>z</th><th>sigma*</th><th>e_sigma*</th><th>n_sigma*</th><th>FWHM</th><th>e_FWHM</th><th>logL</th><th>e_logL</th><th>logM</th><th>E_logM</th><th>e_logM</th></tr></thead>\n",
       "<thead><tr><th></th><th></th><th>km / s</th><th>km / s</th><th></th><th>km / s</th><th>km / s</th><th>[10-7W]</th><th>[10-7W]</th><th>[solMass]</th><th>[solMass]</th><th>[solMass]</th></tr></thead>\n",
       "<thead><tr><th>str24</th><th>float64</th><th>float64</th><th>float64</th><th>str1</th><th>int64</th><th>int64</th><th>float64</th><th>float64</th><th>float64</th><th>float64</th><th>float64</th></tr></thead>\n",
       "<tr><td>SDSS J004236.86-104921.8</td><td>0.0419</td><td>78.4</td><td>10.0</td><td>--</td><td>1960</td><td>97</td><td>41.58</td><td>0.14</td><td>6.7</td><td>--</td><td>0.1</td></tr>\n",
       "</table>"
      ],
      "text/plain": [
       "<Row index=1 masked=True>\n",
       "          Name              z     sigma* e_sigma* n_sigma*  FWHM  e_FWHM   logL   e_logL    logM     E_logM    e_logM \n",
       "                                  km / s  km / s           km / s km / s [10-7W] [10-7W] [solMass] [solMass] [solMass]\n",
       "         str24           float64 float64 float64    str1   int64  int64  float64 float64  float64   float64   float64 \n",
       "------------------------ ------- ------- -------- -------- ------ ------ ------- ------- --------- --------- ---------\n",
       "SDSS J004236.86-104921.8  0.0419    78.4     10.0       --   1960     97   41.58    0.14       6.7        --       0.1"
      ]
     },
     "execution_count": 11,
     "metadata": {},
     "output_type": "execute_result"
    }
   ],
   "source": [
    "data[1]"
   ]
  },
  {
   "cell_type": "code",
   "execution_count": 31,
   "metadata": {},
   "outputs": [
    {
     "data": {
      "text/html": [
       "<i>Table masked=True length=4</i>\n",
       "<table id=\"table4738001872\" class=\"table-striped table-bordered table-condensed\">\n",
       "<thead><tr><th>Name</th><th>z</th><th>sigma*</th><th>e_sigma*</th><th>n_sigma*</th><th>FWHM</th><th>e_FWHM</th><th>logL</th><th>e_logL</th><th>logM</th><th>E_logM</th><th>e_logM</th></tr></thead>\n",
       "<thead><tr><th></th><th></th><th>km / s</th><th>km / s</th><th></th><th>km / s</th><th>km / s</th><th>[10-7W]</th><th>[10-7W]</th><th>[solMass]</th><th>[solMass]</th><th>[solMass]</th></tr></thead>\n",
       "<thead><tr><th>str24</th><th>float64</th><th>float64</th><th>float64</th><th>str1</th><th>int64</th><th>int64</th><th>float64</th><th>float64</th><th>float64</th><th>float64</th><th>float64</th></tr></thead>\n",
       "<tr><td>SDSS J000805.62+145023.4</td><td>0.0454</td><td>140.0</td><td>27.0</td><td>--</td><td>7610</td><td>380</td><td>41.13</td><td>0.04</td><td>7.7</td><td>--</td><td>0.1</td></tr>\n",
       "<tr><td>SDSS J004236.86-104921.8</td><td>0.0419</td><td>78.4</td><td>10.0</td><td>--</td><td>1960</td><td>97</td><td>41.58</td><td>0.14</td><td>6.7</td><td>--</td><td>0.1</td></tr>\n",
       "<tr><td>SDSS J020459.25-080816.0</td><td>0.0772</td><td>121.0</td><td>9.4</td><td>a</td><td>3720</td><td>180</td><td>41.13</td><td>0.05</td><td>7.0</td><td>--</td><td>0.1</td></tr>\n",
       "<tr><td>SDSS J020615.99-001729.1</td><td>0.0426</td><td>216.0</td><td>30.0</td><td>--</td><td>3860</td><td>190</td><td>41.91</td><td>0.07</td><td>7.5</td><td>--</td><td>0.1</td></tr>\n",
       "</table>"
      ],
      "text/plain": [
       "<Table masked=True length=4>\n",
       "          Name              z     sigma* ...    logM     E_logM    e_logM \n",
       "                                  km / s ... [solMass] [solMass] [solMass]\n",
       "         str24           float64 float64 ...  float64   float64   float64 \n",
       "------------------------ ------- ------- ... --------- --------- ---------\n",
       "SDSS J000805.62+145023.4  0.0454   140.0 ...       7.7        --       0.1\n",
       "SDSS J004236.86-104921.8  0.0419    78.4 ...       6.7        --       0.1\n",
       "SDSS J020459.25-080816.0  0.0772   121.0 ...       7.0        --       0.1\n",
       "SDSS J020615.99-001729.1  0.0426   216.0 ...       7.5        --       0.1"
      ]
     },
     "execution_count": 31,
     "metadata": {},
     "output_type": "execute_result"
    }
   ],
   "source": [
    "data[[0,1,3,4]]"
   ]
  },
  {
   "cell_type": "code",
   "execution_count": null,
   "metadata": {},
   "outputs": [],
   "source": []
  }
 ],
 "metadata": {
  "kernelspec": {
   "display_name": "Python 3",
   "language": "python",
   "name": "python3"
  },
  "language_info": {
   "codemirror_mode": {
    "name": "ipython",
    "version": 3
   },
   "file_extension": ".py",
   "mimetype": "text/x-python",
   "name": "python",
   "nbconvert_exporter": "python",
   "pygments_lexer": "ipython3",
   "version": "3.7.4"
  }
 },
 "nbformat": 4,
 "nbformat_minor": 2
}
