{
 "cells": [
  {
   "cell_type": "markdown",
   "metadata": {},
   "source": [
    "# Computational Astrophysics\n",
    "## 04. SDSS Data with AstroML\n",
    "---\n",
    "## Eduard Larrañaga\n",
    "\n",
    "Observatorio Astronómico Nacional\\\n",
    "Facultad de Ciencias\\\n",
    "Universidad Nacional de Colombia\n",
    "\n",
    "---"
   ]
  },
  {
   "cell_type": "markdown",
   "metadata": {},
   "source": [
    "### About this notebook\n",
    "\n",
    "In this worksheet, we use the `astroML` package to download and read data from the SDSS server.\n",
    "\n",
    "---"
   ]
  },
  {
   "cell_type": "markdown",
   "metadata": {},
   "source": [
    "## Data from the SDSS\n",
    "\n",
    "The usual way to download data from the SDSS server is going to the SQL search webpage\n",
    "\n",
    "http://skyserver.sdss.org/dr16/en/tools/search/sql.aspx\n",
    "\n",
    "or to the CASJobs site\n",
    "\n",
    "http://casjobs.sdss.org/CasJobs/\n",
    "\n",
    "and make an SQL query. For example, the following orders,\n",
    "\n",
    "` \n",
    "SELECT\\\n",
    "  round(p.ra,6) as ra, round(p.dec,6) as dec,\\\n",
    "  p.run,                              --- comments are preceded by ---\\\n",
    "  round(p.extinction_r,3) as rExtSFD, --- r band extinction from SFD\\\n",
    "  round(p.modelMag_u,3) as uRaw,      --- ISM-uncorrected model mags\\\n",
    "  round(p.modelMag_g,3) as gRaw,      --- rounding up model magnitudes\\\n",
    "  round(p.modelMag_r,3) as rRaw,\\\n",
    "  round(p.modelMag_i,3) as iRaw,\\\n",
    "  round(p.modelMag_z,3) as zRaw,\\\n",
    "  round(p.modelMagErr_u,3) as uErr,   --- errors are important!\\\n",
    "  round(p.modelMagErr_g,3) as gErr,\\\n",
    "  round(p.modelMagErr_r,3) as rErr,\\\n",
    "  round(p.modelMagErr_i,3) as iErr,\\\n",
    "  round(p.modelMagErr_z,3) as zErr,\\\n",
    "  round(p.psfMag_u,3) as psfRaw,      --- psf magnitudes\\\n",
    "  round(p.psfMag_g,3) as psfRaw,\\\n",
    "  round(p.psfMag_r,3) as psfRaw,\\\n",
    "  round(p.psfMag_i,3) as psfRaw,\\\n",
    "  round(p.psfMag_z,3) as psfRaw,\\\n",
    "  round(p.psfMagErr_u,3) as psfuErr,\\\n",
    "  round(p.psfMagErr_g,3) as psfgErr,\\\n",
    "  round(p.psfMagErr_r,3) as psfrErr,\\\n",
    "  round(p.psfMagErr_i,3) as psfiErr,\\\n",
    "  round(p.psfMagErr_z,3) as psfzErr,\\\n",
    "  p.type,                   --- tells if a source is resolved or not\\\n",
    "  (case when (p.flags & '16') = 0 then 1 else 0 end) as ISOLATED\\\n",
    "INTO mydb.SDSSimagingSample\\\n",
    "FROM PhotoTag p\\\n",
    "WHERE\\\n",
    "    --- 10x2 sq.deg.\\\n",
    "  p.ra > 0.0 and p.ra < 10.0 and p.dec > -1 and p.dec < 1\\\n",
    "    --- resolved and unresolved sources\\\n",
    "  and (p.type = 3 OR p.type = 6) and\\\n",
    "    --- '4295229440' is magic code for no\\\n",
    "    --- DEBLENDED_AS_MOVING or SATURATED objects\\\n",
    "  (p.flags & '4295229440') = 0 and\\\n",
    "    --- PRIMARY objects only, which implies\\\n",
    "    --- !BRIGHT && (!BLENDED || NODEBLEND || nchild == 0)]\\\n",
    "  p.mode = 1 and\\\n",
    "    --- adopted faint limit (same as about SDSS limit)\\\n",
    "  p.modelMag_r < 22.5\\\n",
    "--- the end of query\n",
    "`\n",
    "\n",
    "selects a catalog with 330,000 sources in the region bounded by the coordinates $0^{\\circ} < \\alpha <10^{\\circ}$ and $-1^{\\circ} < \\delta < 1^{\\circ}$. \n",
    "\n",
    "This dataset includes objects of the type 3 (mostly galaxies) and type 6 (mostly stars and quasars) according to the classification of the SDSS database.\n",
    "\n",
    "\n",
    "However, the `astroML.datasets` package incorporate a function, called to `fetch_imaging_sample` which  directly loads this same dataset from the SDSS Database server. DEtailed information about this function can be found at\n",
    "\n",
    "https://www.astroml.org/modules/generated/astroML.datasets.fetch_imaging_sample.html\n",
    "\n",
    "---\n",
    "\n",
    "### Download the dataset\n",
    "\n",
    "Using the `fetch_imaging_sample` function, we will download the dataset,"
   ]
  },
  {
   "cell_type": "code",
   "execution_count": 2,
   "metadata": {},
   "outputs": [],
   "source": [
    "import numpy as np\n",
    "from matplotlib import pyplot as plt"
   ]
  },
  {
   "cell_type": "code",
   "execution_count": 3,
   "metadata": {},
   "outputs": [],
   "source": [
    "from astroML.datasets import fetch_imaging_sample\n",
    "\n",
    "data = fetch_imaging_sample()"
   ]
  },
  {
   "cell_type": "markdown",
   "metadata": {},
   "source": [
    "**Important Note: The first time that you call this command, the code will send a http request and download the data from the web and this may be time consuming! On subsequent calls, the data will be loaded from the local disk.**"
   ]
  },
  {
   "cell_type": "markdown",
   "metadata": {},
   "source": [
    "### Analyzing the Dataset\n",
    "\n",
    "The shape of the dataset has more than 330,000 samples."
   ]
  },
  {
   "cell_type": "code",
   "execution_count": 4,
   "metadata": {},
   "outputs": [
    {
     "data": {
      "text/plain": [
       "(330753,)"
      ]
     },
     "execution_count": 4,
     "metadata": {},
     "output_type": "execute_result"
    }
   ],
   "source": [
    "data.shape"
   ]
  },
  {
   "cell_type": "markdown",
   "metadata": {},
   "source": [
    "The names of the stored attributes of these objects can be accesed via the `dtype` attribute,"
   ]
  },
  {
   "cell_type": "code",
   "execution_count": 5,
   "metadata": {},
   "outputs": [
    {
     "data": {
      "text/plain": [
       "('ra',\n",
       " 'dec',\n",
       " 'run',\n",
       " 'rExtSFD',\n",
       " 'uRaw',\n",
       " 'gRaw',\n",
       " 'rRaw',\n",
       " 'iRaw',\n",
       " 'zRaw',\n",
       " 'uErr',\n",
       " 'gErr',\n",
       " 'rErr',\n",
       " 'iErr',\n",
       " 'zErr',\n",
       " 'uRawPSF',\n",
       " 'gRawPSF',\n",
       " 'rRawPSF',\n",
       " 'iRawPSF',\n",
       " 'zRawPSF',\n",
       " 'upsfErr',\n",
       " 'gpsfErr',\n",
       " 'rpsfErr',\n",
       " 'ipsfErr',\n",
       " 'zpsfErr',\n",
       " 'type',\n",
       " 'ISOLATED')"
      ]
     },
     "execution_count": 5,
     "metadata": {},
     "output_type": "execute_result"
    }
   ],
   "source": [
    "data.dtype.names"
   ]
  },
  {
   "cell_type": "markdown",
   "metadata": {},
   "source": [
    "The 10 first features names in the data set are"
   ]
  },
  {
   "cell_type": "code",
   "execution_count": 6,
   "metadata": {
    "scrolled": false
   },
   "outputs": [
    {
     "data": {
      "text/plain": [
       "('ra', 'dec', 'run', 'rExtSFD', 'uRaw', 'gRaw', 'rRaw', 'iRaw', 'zRaw', 'uErr')"
      ]
     },
     "execution_count": 6,
     "metadata": {},
     "output_type": "execute_result"
    }
   ],
   "source": [
    "data.dtype.names[:10]"
   ]
  },
  {
   "cell_type": "markdown",
   "metadata": {},
   "source": [
    "These features include\n",
    "\n",
    "'ra': right ascension\\\n",
    "'dec': declination\\\n",
    "'rExtSFD': r band extinsion from SFD\\\n",
    "'uRaw': raw photometric data in the u band\\\n",
    "'gRaw': raw photometric data in the g band\\\n",
    "'rRaw': raw photometric data in the r band\\\n",
    "'iRaw': raw photometric data in the i band\\\n",
    "'zRaw': raw photometric data in the z band\\\n",
    "'uErr': error data in the u band\\\n",
    "...\n",
    "\n",
    "etc.\n",
    "\n",
    "This dataset includes objects of the `'type' = 3` (mostly galaxies) and `'type' = 6` (mostly stars and quasars) according to the classification of the SDSS database."
   ]
  },
  {
   "cell_type": "markdown",
   "metadata": {},
   "source": [
    "Data from each feature can be easily accesed. For example, the right ascension of the first 10 samples are"
   ]
  },
  {
   "cell_type": "code",
   "execution_count": 7,
   "metadata": {},
   "outputs": [
    {
     "data": {
      "text/plain": [
       "array([0.358174, 0.358382, 0.357898, 0.35791 , 0.358881, 0.162688,\n",
       "       0.142353, 0.142009, 0.121992, 0.221928])"
      ]
     },
     "execution_count": 7,
     "metadata": {},
     "output_type": "execute_result"
    }
   ],
   "source": [
    "data['ra'][:10]"
   ]
  },
  {
   "cell_type": "code",
   "execution_count": 8,
   "metadata": {},
   "outputs": [
    {
     "data": {
      "text/plain": [
       "(array([0.358174, 0.358382, 0.357898, 0.35791 , 0.358881, 0.162688,\n",
       "        0.142353, 0.142009, 0.121992, 0.221928]),\n",
       " array([-0.508718, -0.551157, -0.570892, -0.426526, -0.505625, -0.590807,\n",
       "        -0.613267, -0.585848, -0.462113, -0.515993]))"
      ]
     },
     "execution_count": 8,
     "metadata": {},
     "output_type": "execute_result"
    }
   ],
   "source": [
    "data['ra'][:10], data['dec'][:10]"
   ]
  },
  {
   "cell_type": "markdown",
   "metadata": {},
   "source": [
    "We can extract some of the data from the loaded dataset. For example, lets extractthe first 5000 objects of the type 6 (stars and quasars),"
   ]
  },
  {
   "cell_type": "code",
   "execution_count": 9,
   "metadata": {},
   "outputs": [],
   "source": [
    "stars = data[data['type'] == 6][:5000]"
   ]
  },
  {
   "cell_type": "code",
   "execution_count": 10,
   "metadata": {},
   "outputs": [
    {
     "data": {
      "text/plain": [
       "(5000,)"
      ]
     },
     "execution_count": 10,
     "metadata": {},
     "output_type": "execute_result"
    }
   ],
   "source": [
    "stars.shape"
   ]
  },
  {
   "cell_type": "code",
   "execution_count": 11,
   "metadata": {},
   "outputs": [
    {
     "data": {
      "text/plain": [
       "array([-0.551157, -0.426526, -0.515993, -0.515987, -0.428948, -0.515826,\n",
       "       -0.595052, -0.548123, -0.580568, -0.541932])"
      ]
     },
     "execution_count": 11,
     "metadata": {},
     "output_type": "execute_result"
    }
   ],
   "source": [
    "stars['dec'][:10]"
   ]
  },
  {
   "cell_type": "markdown",
   "metadata": {},
   "source": [
    "### Visualiazing the data\n",
    "\n",
    "We can easily create diagrams using the dataset. For example, for the `stars` subset that we created, we can plot the declination vs g-band magnitude, "
   ]
  },
  {
   "cell_type": "code",
   "execution_count": 17,
   "metadata": {},
   "outputs": [
    {
     "data": {
      "image/png": "[encoded data removed]",
      "text/plain": [
       "<Figure size 432x288 with 1 Axes>"
      ]
     },
     "metadata": {
      "needs_background": "light"
     },
     "output_type": "display_data"
    }
   ],
   "source": [
    "plt.figure()\n",
    "plt.plot(stars['dec'],stars['gRaw'], '.k')\n",
    "plt.xlabel(r'declination')\n",
    "plt.ylabel(r'$g$ magnitude')\n",
    "plt.ylim(27, 14) #note the inversion in the magnitude axis for a better visualization\n",
    "plt.show()"
   ]
  },
  {
   "cell_type": "code",
   "execution_count": null,
   "metadata": {},
   "outputs": [],
   "source": []
  }
 ],
 "metadata": {
  "kernelspec": {
   "display_name": "Python 3",
   "language": "python",
   "name": "python3"
  },
  "language_info": {
   "codemirror_mode": {
    "name": "ipython",
    "version": 3
   },
   "file_extension": ".py",
   "mimetype": "text/x-python",
   "name": "python",
   "nbconvert_exporter": "python",
   "pygments_lexer": "ipython3",
   "version": "3.7.4"
  }
 },
 "nbformat": 4,
 "nbformat_minor": 2
}
