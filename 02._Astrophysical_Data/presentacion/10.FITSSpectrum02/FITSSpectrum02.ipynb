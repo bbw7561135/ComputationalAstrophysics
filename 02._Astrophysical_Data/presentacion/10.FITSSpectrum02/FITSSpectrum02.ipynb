{
 "cells": [
  {
   "cell_type": "markdown",
   "metadata": {},
   "source": [
    "# Computational Astrophysics\n",
    "## 06.  Reading and Viewing FITS spectra 02\n",
    "---\n",
    "## Eduard Larrañaga\n",
    "\n",
    "Observatorio Astronómico Nacional\\\n",
    "Facultad de Ciencias\\\n",
    "Universidad Nacional de Colombia\n",
    "\n",
    "---"
   ]
  },
  {
   "cell_type": "markdown",
   "metadata": {},
   "source": [
    "### About this notebook\n",
    "\n",
    "In this worksheet we use the `astroML` package to download and read a .fits file from the SDSS Database, in order to visualize an astronomical spectrum.\n",
    "\n",
    "---"
   ]
  },
  {
   "cell_type": "markdown",
   "metadata": {},
   "source": [
    "## The .FITS data\n",
    "The `astroML` package incorporate a function, called to `fetch_sdss_spectrum`, to download and read a FITS spectrum from the SDSS Database server. \n",
    "\n",
    "For the galaxy SDSS J102008.09-004750.7 , we already know that it is identified with the numbers \n",
    "\n",
    "Plate: 271\\\n",
    "MJD: 51883\\\n",
    "Fiber: 5\n",
    "\n",
    "\n",
    "---\n",
    "\n",
    "### Open a .fits file.\n",
    "\n",
    "We will use the function `fetch_sdss_spectrum` from the `astroML.datasets` package to download and open the corresponding FITS file. Detailed information about this function is given at\n",
    "\n",
    "https://www.astroml.org/modules/generated/astroML.datasets.fetch_sdss_spectrum.html\n"
   ]
  },
  {
   "cell_type": "code",
   "execution_count": 1,
   "metadata": {},
   "outputs": [],
   "source": [
    "import numpy as np\n",
    "from matplotlib import pyplot as plt\n",
    "\n",
    "from astroML.datasets import fetch_sdss_spectrum"
   ]
  },
  {
   "cell_type": "code",
   "execution_count": 2,
   "metadata": {},
   "outputs": [],
   "source": [
    "from astroML.datasets import fetch_sdss_spectrum\n",
    "\n",
    "plate = 271\n",
    "MJD = 51883\n",
    "fiber = 5\n",
    "\n",
    "spectrum_data = fetch_sdss_spectrum(plate, MJD ,fiber)"
   ]
  },
  {
   "cell_type": "code",
   "execution_count": 3,
   "metadata": {},
   "outputs": [
    {
     "data": {
      "text/plain": [
       "astroML.datasets.tools.sdss_fits.SDSSfits"
      ]
     },
     "execution_count": 3,
     "metadata": {},
     "output_type": "execute_result"
    }
   ],
   "source": [
    "type(spectrum_data)"
   ]
  },
  {
   "cell_type": "code",
   "execution_count": 4,
   "metadata": {},
   "outputs": [
    {
     "data": {
      "text/plain": [
       "<astroML.datasets.tools.sdss_fits.SDSSfits at 0x10610db90>"
      ]
     },
     "execution_count": 4,
     "metadata": {},
     "output_type": "execute_result"
    }
   ],
   "source": [
    "spectrum_data"
   ]
  },
  {
   "cell_type": "markdown",
   "metadata": {},
   "source": [
    "### Visualizaing the Spectrum\n",
    "\n",
    "The spectrum_data object has the methods .wavelength() and .flux which give the data for plotting the spectrum."
   ]
  },
  {
   "cell_type": "code",
   "execution_count": 5,
   "metadata": {
    "scrolled": false
   },
   "outputs": [
    {
     "data": {
      "image/png": "[encoded data removed]",
      "text/plain": [
       "<Figure size 432x288 with 1 Axes>"
      ]
     },
     "metadata": {
      "needs_background": "light"
     },
     "output_type": "display_data"
    }
   ],
   "source": [
    "fig, ax = plt.subplots()\n",
    "ax.plot(spectrum_data.wavelength(), spectrum_data.spectrum, '-k', lw=1)\n",
    "\n",
    "ax.set_xlim(3000, 10000)\n",
    "ax.set_ylim(25, 300)\n",
    "\n",
    "ax.set_xlabel(r'$\\lambda {(\\rm \\AA)}$')\n",
    "ax.set_ylabel('Flux')\n",
    "ax.set_title('Plate = %(plate)i, MJD = %(MJD)i, Fiber = %(fiber)i' % locals())\n",
    "\n",
    "plt.show()"
   ]
  },
  {
   "cell_type": "code",
   "execution_count": null,
   "metadata": {},
   "outputs": [],
   "source": []
  }
 ],
 "metadata": {
  "kernelspec": {
   "display_name": "Python 3",
   "language": "python",
   "name": "python3"
  },
  "language_info": {
   "codemirror_mode": {
    "name": "ipython",
    "version": 3
   },
   "file_extension": ".py",
   "mimetype": "text/x-python",
   "name": "python",
   "nbconvert_exporter": "python",
   "pygments_lexer": "ipython3",
   "version": "3.7.4"
  }
 },
 "nbformat": 4,
 "nbformat_minor": 2
}
