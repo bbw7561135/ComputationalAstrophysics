{
 "cells": [
  {
   "cell_type": "markdown",
   "metadata": {},
   "source": [
    "# Computational Astrophysics\n",
    "## 03. Exercises"
   ]
  },
  {
   "cell_type": "markdown",
   "metadata": {},
   "source": [
    "**Name:** \n",
    "\n",
    "---"
   ]
  },
  {
   "cell_type": "markdown",
   "metadata": {},
   "source": [
    "## 1. Lorentz Gamma Function\n",
    "**`Carroll and Ostlie (2017). Section 4.2`**\n",
    "\n",
    "Write a program that reads the file written by the program that calculates the Lorentz gamma function in Exercises 01 and plots the corresponding curve for values of $\\beta$ between $0$ and $1$."
   ]
  },
  {
   "cell_type": "markdown",
   "metadata": {},
   "source": [
    "---\n",
    "\n",
    "## 2. Elliptic Orbits\n",
    "**`Carroll and Ostlie (2017). Section 3.1`**\n",
    "\n",
    "As is well known, planets in the Solar System move in ellipses described by the general equation\n",
    "\n",
    "\\begin{equation}\n",
    "r = \\frac{a(1-e^2)}{1+e \\cos \\phi}\n",
    "\\end{equation}\n",
    "\n",
    "where $0 \\leq e <1$ is the eccentricity and $a>0$ is the semimajor axis.Write a Python program that plots the ellipse describe by the above equation for given values of $e$ and $a$."
   ]
  },
  {
   "cell_type": "markdown",
   "metadata": {},
   "source": [
    "---\n",
    "\n",
    "## 3. Gauss Function\n",
    "**`Carroll and Ostlie (2017). Section 4.2`**\n",
    "\n",
    "One of the most used functions in physics ans astronomy is the Gaussian function,\n",
    "\n",
    "\\begin{equation}\n",
    "f(x) = \\frac{1}{\\sqrt{2 \\pi} s} \\exp{\\left[ - \\frac{1}{2} \\left( \\frac{x-m}{s}\\right)^2 \\right]}\n",
    "\\end{equation}\n",
    "\n",
    "1. Write a function to evaluate and plot the Gaussian function for given values of the real constants $m$ and $s>0$.\n",
    "\n",
    "2. The plot must be saved as .jpg and .pdf files."
   ]
  },
  {
   "cell_type": "markdown",
   "metadata": {},
   "source": [
    "---\n",
    "\n",
    "## 3. Planck Function\n",
    "**`Carroll and Ostlie (2017). Section 4.2`**\n",
    "\n",
    "1. Write a Python module with a definition of Planck's function,\n",
    "\n",
    "\\begin{equation}\n",
    "B_\\lambda (T) = \\frac{2hc^2/\\lambda^5}{e^{hc/\\lambda k_BT} - 1}\n",
    "\\end{equation}\n",
    "\n",
    "where $c=3\\times 10^8 \\textrm{ m/s}^s$, $k_B = 1.3806503 \\times 10{-23} \\textrm{ J K}^{-1}$ and $h = 6.62606876 \\times 10^{-34} \\textrm{ J s}$. \n",
    "\n",
    "2. Write a Python program that uses the above module to plot Plank's function for a given value of temperature $T$ as function of $\\lambda$."
   ]
  },
  {
   "cell_type": "markdown",
   "metadata": {},
   "source": [
    "¡¡ Happy Coding !!"
   ]
  }
 ],
 "metadata": {
  "kernelspec": {
   "display_name": "Python 3",
   "language": "python",
   "name": "python3"
  },
  "language_info": {
   "codemirror_mode": {
    "name": "ipython",
    "version": 3
   },
   "file_extension": ".py",
   "mimetype": "text/x-python",
   "name": "python",
   "nbconvert_exporter": "python",
   "pygments_lexer": "ipython3",
   "version": "3.7.4"
  }
 },
 "nbformat": 4,
 "nbformat_minor": 2
}
