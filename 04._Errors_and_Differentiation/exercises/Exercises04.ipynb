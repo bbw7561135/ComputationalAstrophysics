{
 "cells": [
  {
   "cell_type": "markdown",
   "metadata": {},
   "source": [
    "# Computational Astrophysics\n",
    "## 04. Exercises"
   ]
  },
  {
   "cell_type": "markdown",
   "metadata": {},
   "source": [
    "**Name:** \n",
    "\n",
    "---"
   ]
  },
  {
   "cell_type": "markdown",
   "metadata": {},
   "source": [
    "## 1. First Derivative of a  Function\n",
    "\n",
    "1. Write a module to calculate numerically the derivative of a function using forward, backward and central differences. \n",
    "2. Use this module in a program to calculate the derivative with respect to $x$ of the Gaussian function \n",
    "\n",
    "\\begin{equation}\n",
    "f(x) = \\frac{1}{\\sqrt{2 \\pi} s} \\exp{\\left[ - \\frac{1}{2} \\left( \\frac{x-m}{s}\\right)^2 \\right]}.\n",
    "\\end{equation}\n",
    "\n",
    "for given values of the real constants $m$ and $s>0$.\n",
    "\n",
    "3. Plot the function and the obtained numerical values of its derivative, in the particular case with $m=0$ and $s=1$, in the interval $−10 \\leq x \\leq 10$.\n",
    "\n",
    "4. Plot the function and the obtained numerical values of its derivative in the interval $−10s+m ≤ x ≤ 10s+m$ for general values of the constants $m$ and $s>0$.\n",
    "\n",
    "5. Plot the obtained values of the derivative and the analytic derivative of the function in the interval $−10s+m ≤ x ≤ 10s+m$, in order to compare your results with the exact values. Is there an appreciable difference?"
   ]
  },
  {
   "cell_type": "markdown",
   "metadata": {},
   "source": [
    "---\n",
    "\n",
    "## 2.  Second Derivative of a Function\n",
    "1. Using the Taylor expansions for $f(x_0 + \\delta x)$ and $f(x_0 − \\delta x)$, find the difference approximation to the second derivative of $f$ at $x_0$.\n",
    "\n",
    "2. Write a module to calculate numerically the second derivative of a function, according to the above results. What is the order of approximation of this method?"
   ]
  },
  {
   "cell_type": "markdown",
   "metadata": {},
   "source": [
    "---\n",
    "\n",
    "## 3. Second Derivative of the Gauss Function\n",
    "**`Carroll and Ostlie (2017). Section 4.2`**\n",
    "\n",
    "Use the module written in exercise 2.to calculate the second derivative of the Gaussian function \n",
    "\n",
    "\\begin{equation}\n",
    "f(x) = \\frac{1}{\\sqrt{2 \\pi} s} \\exp{\\left[ - \\frac{1}{2} \\left( \\frac{x-m}{s}\\right)^2 \\right]}.\n",
    "\\end{equation}\n",
    "\n",
    "for given values of the real constants $m$ and $s>0$.\n",
    "\n",
    "\n",
    "1. Plot the function and the obtained numerical values of its derivative and its second derivative in the interval $−10s+m ≤ x ≤ 10s+m$ for general values of the constants $m$ and $s>0$.\n",
    "\n",
    "2. Plot the obtained values of the second derivative and the analytic second derivative of the function in the interval $−10s+m ≤ x ≤ 10s+m$, in order to compare your results with the exact values. Is there an appreciable difference?"
   ]
  },
  {
   "cell_type": "markdown",
   "metadata": {},
   "source": [
    "---\n",
    "\n",
    "## 3. Derivative of the Planck Function\n",
    "**`Carroll and Ostlie (2017). Section 4.2`**\n",
    "\n",
    "1. Use the above results to calculate the numerical derivative of Planck's function\n",
    "\n",
    "\\begin{equation}\n",
    "B (\\lambda, T) = \\frac{2hc^2/\\lambda^5}{e^{hc/\\lambda k_BT} - 1}\n",
    "\\end{equation}\n",
    "\n",
    "with respect to $\\lambda$ (for a constant T). Remember that $c=3\\times 10^8 \\textrm{ m/s}^s$, $k_B = 1.3806503 \\times 10{-23} \\textrm{ J K}^{-1}$ and $h = 6.62606876 \\times 10^{-34} \\textrm{ J s}$. \n",
    "\n",
    "2. Plot Plank's function and its first derivative, for a given value of temperature $T$, as function of $\\lambda$. Can you identify (approximately) the value $\\lambda = \\lambda_M$ corresponding to the maximum of Planck's function?"
   ]
  },
  {
   "cell_type": "markdown",
   "metadata": {},
   "source": [
    "¡¡ Happy Coding !!"
   ]
  }
 ],
 "metadata": {
  "kernelspec": {
   "display_name": "Python 3",
   "language": "python",
   "name": "python3"
  },
  "language_info": {
   "codemirror_mode": {
    "name": "ipython",
    "version": 3
   },
   "file_extension": ".py",
   "mimetype": "text/x-python",
   "name": "python",
   "nbconvert_exporter": "python",
   "pygments_lexer": "ipython3",
   "version": "3.7.4"
  }
 },
 "nbformat": 4,
 "nbformat_minor": 2
}
