{
 "cells": [
  {
   "cell_type": "markdown",
   "metadata": {},
   "source": [
    "# Computational Astrophysics\n",
    "## Error Analysis 01\n",
    "\n",
    "---\n",
    "## Eduard Larrañaga\n",
    "\n",
    "Observatorio Astronómico Nacional\\\n",
    "Facultad de Ciencias\\\n",
    "Universidad Nacional de Colombia\n",
    "\n",
    "---"
   ]
  },
  {
   "cell_type": "markdown",
   "metadata": {},
   "source": [
    "### About this notebook\n",
    "\n",
    "In this notebook we present some of fundamentals about error analysis and stability.\n",
    "\n",
    "---"
   ]
  },
  {
   "cell_type": "markdown",
   "metadata": {},
   "source": [
    "Several sources of errors appear in numerical calculations. Some of them are:\n",
    "\n",
    "**Experimental Uncertainty** : As is well known, experimental data have a limited precision. Hence, it is usual to represent this kind of data as $x \\pm \\Delta x$ where $\\Delta x$ is the uncertainty n the measurements.\\\n",
    "When using experimental data in numerical algorithms, the uncertainties can lead to large errors.\n",
    "\n",
    "**Rounding Errors (Floating Point Numbers)** : The computational representation of a number is always limited by the allocated memory. Therefore, there is an inherent round-off error in any quantity stored in the computer and it can lead to large errors if not controlled by the algorithm.\n",
    "\n",
    "**Truncation Errors** : When we represent some functions such as suare roots, exponentials, logarithms, trigonometric funtions, derivatives, etc. using series expansions, the truncations of the series or iterations in the algorithm induce errors than can be accumulated in each step. \n",
    "\n",
    "Now, we will illustrate the existence of these error sources with some examples."
   ]
  },
  {
   "cell_type": "markdown",
   "metadata": {},
   "source": [
    "---\n",
    "### Floating Point Number Errors (Round-off Errors)\n",
    "\n",
    "Lets define a simple floating point such as"
   ]
  },
  {
   "cell_type": "code",
   "execution_count": 1,
   "metadata": {},
   "outputs": [
    {
     "data": {
      "text/plain": [
       "3.1416"
      ]
     },
     "execution_count": 1,
     "metadata": {},
     "output_type": "execute_result"
    }
   ],
   "source": [
    "x = 3.1416\n",
    "x"
   ]
  },
  {
   "cell_type": "markdown",
   "metadata": {},
   "source": [
    "Note that, when writting a 20 decimal places precision representation of this number, there is an induced error. This is inherent to the finite number of bits used to storing the floating point number."
   ]
  },
  {
   "cell_type": "code",
   "execution_count": 2,
   "metadata": {},
   "outputs": [
    {
     "name": "stdout",
     "output_type": "stream",
     "text": [
      "3.14159999999999994813\n"
     ]
    }
   ],
   "source": [
    "print(f'{x:.20f}')"
   ]
  },
  {
   "cell_type": "markdown",
   "metadata": {},
   "source": [
    "Hence, adding a small number to $x$ gives an unexpected result:"
   ]
  },
  {
   "cell_type": "code",
   "execution_count": 3,
   "metadata": {},
   "outputs": [
    {
     "data": {
      "text/plain": [
       "3.1416"
      ]
     },
     "execution_count": 3,
     "metadata": {},
     "output_type": "execute_result"
    }
   ],
   "source": [
    "x+0.0000000000000001"
   ]
  },
  {
   "cell_type": "markdown",
   "metadata": {},
   "source": [
    "#### Machine's Epsilon\n",
    "\n",
    "Here, we will find the minimum value $\\epsilon$ for which our machine assumes that $1. + \\epsilon= 1. \n",
    "\n",
    "$\\epsilon = \\min \\left[ \\delta >0 | 1 +\\delta >1 \\right]  $\n",
    "\n",
    "This defines the machine's precision for floating point numbers calculations."
   ]
  },
  {
   "cell_type": "code",
   "execution_count": 4,
   "metadata": {},
   "outputs": [
    {
     "data": {
      "text/plain": [
       "1.1102230246251565e-16"
      ]
     },
     "execution_count": 4,
     "metadata": {},
     "output_type": "execute_result"
    }
   ],
   "source": [
    "epsilon = 1.\n",
    "\n",
    "while (1.+epsilon != 1.):\n",
    "    epsilon = epsilon/2.\n",
    "\n",
    "epsilon"
   ]
  },
  {
   "cell_type": "markdown",
   "metadata": {},
   "source": [
    "---\n",
    "Consider the floating point number $y = \\cos \\frac{\\pi}{2}$. One expects that it must be equal to zero. However, the simple calculation gives a floating point representation of zero:"
   ]
  },
  {
   "cell_type": "code",
   "execution_count": 5,
   "metadata": {},
   "outputs": [
    {
     "data": {
      "text/plain": [
       "6.123233995736766e-17"
      ]
     },
     "execution_count": 5,
     "metadata": {},
     "output_type": "execute_result"
    }
   ],
   "source": [
    "import numpy as np\n",
    "\n",
    "y = np.cos(np.pi/2.) \n",
    "y"
   ]
  },
  {
   "cell_type": "markdown",
   "metadata": {},
   "source": [
    "Another example of the round-off error appears when we take the square root of 3,"
   ]
  },
  {
   "cell_type": "code",
   "execution_count": 6,
   "metadata": {},
   "outputs": [
    {
     "data": {
      "text/plain": [
       "1.7320508075688772"
      ]
     },
     "execution_count": 6,
     "metadata": {},
     "output_type": "execute_result"
    }
   ],
   "source": [
    "z = np.sqrt(3)\n",
    "z"
   ]
  },
  {
   "cell_type": "markdown",
   "metadata": {},
   "source": [
    "Note that due to the round-off error $\\sqrt{3} \\cdot \\sqrt{3} \\neq 3$"
   ]
  },
  {
   "cell_type": "code",
   "execution_count": 7,
   "metadata": {},
   "outputs": [
    {
     "data": {
      "text/plain": [
       "2.9999999999999996"
      ]
     },
     "execution_count": 7,
     "metadata": {},
     "output_type": "execute_result"
    }
   ],
   "source": [
    "z*z"
   ]
  },
  {
   "cell_type": "markdown",
   "metadata": {},
   "source": [
    "---\n",
    "### Absolute and Relative Errors\n",
    "\n",
    "It is usual to define the **absolute** and **relative** errors. Denoting the *true* value of a quantity by $X$ and its approximate value by $x$, we have\n",
    "\n",
    "$\\epsilon_a = \\left| X - x \\right|$ : Absolute error\n",
    "\n",
    "\n",
    "$\\epsilon_r = \\left| \\frac{X - x}{X} \\right|$ : Relative error\n"
   ]
  },
  {
   "cell_type": "code",
   "execution_count": 8,
   "metadata": {},
   "outputs": [
    {
     "data": {
      "text/plain": [
       "7.346410206832132e-06"
      ]
     },
     "execution_count": 8,
     "metadata": {},
     "output_type": "execute_result"
    }
   ],
   "source": [
    "import numpy as np\n",
    "\n",
    "X = np.pi\n",
    "x = 3.1416\n",
    "\n",
    "abs_error = np.abs(X - x) \n",
    "abs_error"
   ]
  },
  {
   "cell_type": "code",
   "execution_count": 9,
   "metadata": {},
   "outputs": [
    {
     "data": {
      "text/plain": [
       "2.3384349967961744e-06"
      ]
     },
     "execution_count": 9,
     "metadata": {},
     "output_type": "execute_result"
    }
   ],
   "source": [
    "rel_error = np.abs((X - x)/X)\n",
    "rel_error"
   ]
  },
  {
   "cell_type": "markdown",
   "metadata": {},
   "source": [
    "---\n",
    "### Truncation Error\n",
    "\n",
    "Consider the $\\sin x$ function and its approximate form\n",
    "\n",
    "$\\sin x = \\sum_{n=1}^\\infty (-1)^{n-1} \\frac{x^{2n-1}}{(2n-1)!}$\n",
    "\n",
    "The 7th-order accurate approximation is\n",
    "\n",
    "$f(x) = x - \\frac{x^3}{6} + \\frac{x^5}{120}$.\n",
    "\n",
    "This approximation of the $\\sin x$ function induces a **truncation error** which can be estimated as"
   ]
  },
  {
   "cell_type": "code",
   "execution_count": 11,
   "metadata": {},
   "outputs": [
    {
     "data": {
      "image/png": "[encoded data removed]",
      "text/plain": [
       "<Figure size 432x288 with 1 Axes>"
      ]
     },
     "metadata": {
      "needs_background": "light"
     },
     "output_type": "display_data"
    }
   ],
   "source": [
    "import numpy as np\n",
    "import matplotlib.pyplot as plt\n",
    "\n",
    "def truncation_error(x):\n",
    "    '''\n",
    "    ------------------------------------------\n",
    "    Returns the truncarion error obtained when\n",
    "    comparing the 7th order accurate \n",
    "    approximation of the sin x function and \n",
    "    the numpy.sin() function \n",
    "    ------------------------------------------\n",
    "    Arguments:\n",
    "    x : point at which the truncation error is\n",
    "    calculated\n",
    "    ------------------------------------------\n",
    "    '''\n",
    "    mysin = x - x**3/6 + x**5/120\n",
    "    return np.abs(np.sin(x) - mysin)\n",
    "\n",
    "x = np.linspace(0, 1, 50)\n",
    "\n",
    "plt.figure()\n",
    "plt.plot(x, truncation_error(x))\n",
    "\n",
    "plt.xlim(1, 0)\n",
    "plt.xlabel(r'$x$')\n",
    "plt.ylabel(r'truncation error')\n",
    "plt.show()"
   ]
  },
  {
   "cell_type": "markdown",
   "metadata": {},
   "source": [
    "#### Estimating the Accuracy of a Truncated Series\n",
    "To estimate the order of accuracy of a truncated approximation, we pick a number in the range $0<x<1$ and calculate the truncation error. Then, we half the number and calculate again the truncation error. The ratio of both errors gives a factor of $2^n$, where $n$ is the order of accuracy of the approximation."
   ]
  },
  {
   "cell_type": "code",
   "execution_count": 12,
   "metadata": {},
   "outputs": [
    {
     "name": "stdout",
     "output_type": "stream",
     "text": [
      "For x = 0.799 the value of the truncation error is : 4.086e-05\n",
      "For x = 0.399 the value of the truncation error is : 3.213e-07\n",
      "\n",
      "The ratio of these values is 127.153\n",
      "which is approximately 2^7.0\n"
     ]
    }
   ],
   "source": [
    "# Randomly choosing the number in the range 0<x<1\n",
    "x = np.random.random()  \n",
    "# Calculate the truncation errors and their ratio\n",
    "te_x = truncation_error(x)\n",
    "te_x2 = truncation_error(x/2)\n",
    "ratio = te_x/te_x2 \n",
    "\n",
    "# Results.\n",
    "print(f'For x = {x:.3f} the value of the truncation error is : {te_x:.3e}' )\n",
    "print(f'For x = {x/2:.3f} the value of the truncation error is : {te_x2:.3e}')\n",
    "print(\"\")\n",
    "print(f'The ratio of these values is {ratio:.3f}')\n",
    "print(f'which is approximately 2^{np.log2(ratio):.1f}')\n"
   ]
  },
  {
   "cell_type": "markdown",
   "metadata": {},
   "source": [
    "---\n",
    "### Stability of an Algorithm\n",
    "\n",
    "An algorithm, equation or problem is called **unstable** or **ill- conditioned** if small changes in the input cause a large change in the output."
   ]
  },
  {
   "cell_type": "markdown",
   "metadata": {},
   "source": [
    "In order to illustrate a stable algorithm, consider the recurrence relation\n",
    "\n",
    "$x_0 = 1$\\\n",
    "$x_1 = \\frac{1}{3}$\\\n",
    "$x_{n+1} = \\frac{13}{3}x_n - \\frac{4}{3} x_{n-1} $\n",
    "\n",
    "which is equivalent to \n",
    "\n",
    "$x_n = \\left( \\frac{1}{3} \\right)^n$."
   ]
  },
  {
   "cell_type": "code",
   "execution_count": 19,
   "metadata": {},
   "outputs": [
    {
     "data": {
      "image/png": "[encoded data removed]",
      "text/plain": [
       "<Figure size 504x360 with 1 Axes>"
      ]
     },
     "metadata": {
      "needs_background": "light"
     },
     "output_type": "display_data"
    }
   ],
   "source": [
    "import numpy as np\n",
    "import matplotlib.pyplot as plt\n",
    "\n",
    "n=16\n",
    "X = np.zeros(n)\n",
    "x = np.zeros(n)\n",
    "\n",
    "X[0] = 1.\n",
    "X[1] = 1./3.\n",
    "\n",
    "x[0] = 1.\n",
    "x[1] = 1./3.\n",
    "\n",
    "for i in range(2,n):\n",
    "    X[i] = 13.*X[i-1]/3. - 4.*X[i-2]/3.\n",
    "    x[i] = (1./3.)**(i)\n",
    "\n",
    "abs_error = np.abs(X - x)\n",
    "rel_error = np.abs((X - x)/X)\n",
    "\n",
    "plt.figure(figsize=(7,5))\n",
    "\n",
    "plt.plot(range(n), abs_error, label='absolute error')\n",
    "plt.plot(range(n), rel_error, label='relative error')\n",
    "plt.xlabel(r'n')\n",
    "plt.legend()\n",
    "plt.show()"
   ]
  },
  {
   "cell_type": "markdown",
   "metadata": {},
   "source": [
    "Up to the step $n=15$ in the recurrence relation, the absolute error is practically zero, while the relative error to a value of $0.05 = 5\\%$. Hence this algorithm shows to be **stable**.\n"
   ]
  },
  {
   "cell_type": "markdown",
   "metadata": {},
   "source": [
    "---\n",
    "Instead, the recurrence relation\n",
    "\n",
    "$x_0 = 0$\\\n",
    "$x_1 = 4$\\\n",
    "$x_{n+1} = \\frac{13}{3}x_n - \\frac{4}{3} x_{n-1} $\n",
    "\n",
    "compared to \n",
    "\n",
    "$x_n = 4^n$,\n",
    "\n",
    "shows a completly different behavior."
   ]
  },
  {
   "cell_type": "code",
   "execution_count": 20,
   "metadata": {
    "scrolled": false
   },
   "outputs": [
    {
     "name": "stderr",
     "output_type": "stream",
     "text": [
      "/Users/ashcat/opt/anaconda3/lib/python3.7/site-packages/ipykernel_launcher.py:19: RuntimeWarning: divide by zero encountered in true_divide\n"
     ]
    },
    {
     "data": {
      "image/png": "[encoded data removed]",
      "text/plain": [
       "<Figure size 504x360 with 1 Axes>"
      ]
     },
     "metadata": {
      "needs_background": "light"
     },
     "output_type": "display_data"
    }
   ],
   "source": [
    "import numpy as np\n",
    "import matplotlib.pyplot as plt\n",
    "\n",
    "n=21\n",
    "X = np.zeros(n)\n",
    "x = np.zeros(n)\n",
    "\n",
    "X[0] = 0.\n",
    "X[1] = 4.\n",
    "\n",
    "x[0] = 1.\n",
    "x[1] = 4.\n",
    "\n",
    "for i in range(2,n):\n",
    "    X[i] = 13.*X[i-1]/3. - 4.*X[i-2]/3.\n",
    "    x[i] = (4.)**(i)\n",
    "\n",
    "abs_error = np.abs(X - x)\n",
    "rel_error = np.abs((X - x)/X)\n",
    "\n",
    "plt.figure(figsize=(7,5))\n",
    "\n",
    "plt.plot(range(n), abs_error, label='absolute error')\n",
    "plt.plot(range(n), rel_error, label='relative error')\n",
    "plt.xlabel(r'n')\n",
    "plt.legend()\n",
    "plt.show()"
   ]
  },
  {
   "cell_type": "markdown",
   "metadata": {},
   "source": [
    "Here, up to the step $n=20$ the relative error is very small but the absolute error grows incredible high (up to $1 \\times 10^{11}$) !. This algorithm is **unstable**."
   ]
  }
 ],
 "metadata": {
  "kernelspec": {
   "display_name": "Python 3",
   "language": "python",
   "name": "python3"
  },
  "language_info": {
   "codemirror_mode": {
    "name": "ipython",
    "version": 3
   },
   "file_extension": ".py",
   "mimetype": "text/x-python",
   "name": "python",
   "nbconvert_exporter": "python",
   "pygments_lexer": "ipython3",
   "version": "3.7.4"
  }
 },
 "nbformat": 4,
 "nbformat_minor": 2
}
