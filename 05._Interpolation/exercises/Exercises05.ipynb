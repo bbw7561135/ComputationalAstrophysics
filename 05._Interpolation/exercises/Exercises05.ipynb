{
 "cells": [
  {
   "cell_type": "markdown",
   "metadata": {},
   "source": [
    "# Computational Astrophysics\n",
    "## 05. Exercises"
   ]
  },
  {
   "cell_type": "markdown",
   "metadata": {},
   "source": [
    "**Name:** \n",
    "\n",
    "---"
   ]
  },
  {
   "cell_type": "markdown",
   "metadata": {},
   "source": [
    "## 1. Lagrange Interpolation\n",
    "\n",
    "1. Implement a routine that generates Lagrangean interpolating polynomials of arbitrary degree $n$ based on $n+1$ data points.  \n",
    "\n",
    "2. Consider the function\n",
    "\n",
    "\\begin{equation}\n",
    "f(x) = \\frac{1}{25 x^2 + 1}\n",
    "\\end{equation}\n",
    "\n",
    "in the interval $[-1,1]$. \n",
    " - Define 7 equally spaced points in this interval and obtain the corresponding values of the function. Using these points, interpolate a polynomials of degrees $n=6$.\n",
    " - Define 9 equally spaced points in this interval and obtain the corresponding values of the function. Using these points, interpolate a polynomials of degrees $n=8$.\n",
    " - Define 11 equally spaced points in this interval and obtain the corresponding values of the function. Using these points, interpolate a polynomials of degrees $n=10$.\n",
    " - Define 13 equally spaced points in this interval and obtain the corresponding values of the function. Using these points, interpolate a polynomials of degrees $n=12$.\n",
    "\n",
    "3. Plot the original function $f(x)$ together with the interpolating polynomials. Does high-order polynomial fit better the function?"
   ]
  },
  {
   "cell_type": "markdown",
   "metadata": {},
   "source": [
    "---\n",
    "\n",
    "## 2.  Error-Norm-2\n",
    "\n",
    "Once you have obtained the interpolating polynomials above, discretize the domain with $m=100$ equally spaced points in the interval [-1,1]. Now compute the Error-Norm-2 (EN2), defined as\n",
    "\n",
    "\\begin{equation*}\n",
    "\\text{EN2} = \\frac{1}{m} \\sqrt{ \\sum_{i=1}^m \n",
    "\\left(\\frac{p(x_i)-f(x_i)}{f(x_i)}\\right)  ^2 }\\,,\n",
    "\\end{equation*}\n",
    "\n",
    "where $p(x)$ stands for each of the interpolating polynomials  with orders $n=\\{6,8,10,12\\}$.\n",
    "\n",
    "The EN2  gives a measure of how good is the fit of each interpolating polynomial (if EN2=0, the fit is perfect!)."
   ]
  },
  {
   "cell_type": "markdown",
   "metadata": {},
   "source": [
    "---\n",
    "\n",
    "## 3. Piecewise Interpolation\n",
    "\n",
    "Now discretize the same function using $50$ equally spaced points in the interval $[-1,1]$. \n",
    "1. Implement a routine that interpolates $f(x)$ piecewise linearly between these $50$ data points. Plot the interpolation data and the original function.\n",
    "\n",
    "2. Evaluate the EN2 coefficient using the $m= 100$ points defined above. Compare this and the previous results."
   ]
  },
  {
   "cell_type": "markdown",
   "metadata": {},
   "source": [
    "---\n",
    "\n",
    "## 4. Hermite Interpolation\n",
    "\n",
    "Discretize the function with $21$ equally spaced points in the interval $[-1,1]$ and evaluate numerically its first derivative (centered finite difference inside the interval and one-side derivative on the boundaries). \n",
    "\n",
    "1. Implement a routine that generates a piecewise cubic Hermite interpolating polynomial in the interval. Plot the function and the interpolating polynomial.  \n",
    "\n",
    "2. Evaluate the EN2 coefficient using the $m= 100$ points defined above. Compare this and the previous results."
   ]
  },
  {
   "cell_type": "markdown",
   "metadata": {},
   "source": [
    "---\n",
    "## 5. Cepheids\n",
    "**`Carroll and Ostlie (2017). Section 14.1`**\n",
    "\n",
    "Cepheids are stars that exhibit variations in their apparent magnitude due to radial pulsations driven by varying opacity. This is known as the $\\kappa$-Mechanism. \n",
    "\n",
    "In the file cepheids_data.csv you can find a synthetic lightcurve data for a quickly varying cepheid (with a period of 1-day). \n",
    "\n",
    "1. Use Lagrange interpolation to obtain a polynomial of order $n=8$ that interpolates the lightcurve. Plot the interpolating polynomial and the data together.\n",
    "\n",
    "2. Now use piecewise linear interpolation and piecewise quadratic interpolation to interpolate the data. Plot the interpolations and the data in one figure.\n",
    "\n",
    "3. Obtain a piecewise cubic Hermite interpolation and plot the result together with the data.\n",
    "\n",
    "4. Find information about the interpolation methods in `scipy`, in particular about **spline interpoaltion**. Use the spline interpolation of the `scipy` to obtain and interpolating function for the cepheid data and plot the results."
   ]
  },
  {
   "cell_type": "markdown",
   "metadata": {},
   "source": [
    "## 6. $\\delta$-Cephei\n",
    "**`J. Stebbins. The light-curve of delta Cephei. Ap. J, 27, 188 (1908)`**\n",
    "**`Carroll and Ostlie (2017). Section 14.1`**\n",
    "\n",
    "The variations in the brightness of the star $\\delta$-Cephei were frist observed by John Goodricke in 1784. The variation profile of this star defines the so-called **Classical Cepheids**\n",
    "\n",
    "The file delta_cepheid.csv contains the lightcurve data of $\\delta$-Cephei reported by Joel Stebbins in 1908,\n",
    "\n",
    "https://ui.adsabs.harvard.edu/abs/1908ApJ....27..188S/abstract\n",
    "\n",
    "1. Using the different interpolation methods presented in this lesson, obtain an interpolated function for the data points. \n",
    "\n",
    "2. Plot the data points and the interpolated function. Can you obtain the period of the variation of $\\delta$-Cephei? Compare your results with the Figure I in the paper of J. Stebbins."
   ]
  },
  {
   "cell_type": "markdown",
   "metadata": {},
   "source": [
    "¡¡ Happy Coding !!"
   ]
  }
 ],
 "metadata": {
  "kernelspec": {
   "display_name": "Python 3",
   "language": "python",
   "name": "python3"
  },
  "language_info": {
   "codemirror_mode": {
    "name": "ipython",
    "version": 3
   },
   "file_extension": ".py",
   "mimetype": "text/x-python",
   "name": "python",
   "nbconvert_exporter": "python",
   "pygments_lexer": "ipython3",
   "version": "3.7.4"
  }
 },
 "nbformat": 4,
 "nbformat_minor": 2
}
