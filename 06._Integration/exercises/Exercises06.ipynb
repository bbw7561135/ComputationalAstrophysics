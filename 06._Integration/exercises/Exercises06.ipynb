{
 "cells": [
  {
   "cell_type": "markdown",
   "metadata": {},
   "source": [
    "# Computational Astrophysics\n",
    "## 06. Exercises"
   ]
  },
  {
   "cell_type": "markdown",
   "metadata": {},
   "source": [
    "**Name:** \n",
    "\n",
    "---"
   ]
  },
  {
   "cell_type": "markdown",
   "metadata": {},
   "source": [
    "\n",
    "## 1. Planck Function\n",
    "**`Carroll and Ostlie (2017). Section 3.5`**\n",
    "\n",
    "We have presented before the Planck's function,\n",
    "\n",
    "\\begin{equation}\n",
    "B_\\lambda (T) = \\frac{2hc^2/\\lambda^5}{e^{hc/\\lambda k_BT} - 1}\n",
    "\\end{equation}\n",
    "\n",
    "where $c=3\\times 10^8 \\textrm{ m/s}^s$, $k_B = 1.3806503 \\times 10^{-23} \\textrm{ J K}^{-1}$ and $h = 6.62606876 \\times 10^{-34} \\textrm{ J s}$. \n",
    "\n",
    "2. Use the presented integration methods to obtain an estimation of the integral over all wavelengths, \n",
    "\n",
    "\\begin{equation}\n",
    "I = \\int_0^\\infty B_\\lambda (T) d\\lambda \n",
    "\\end{equation}\n",
    "\n",
    "for temperature in the range $0$ K $< T < 10000$ K. Compare your results with the Stefan-Boltzmann equation,  \n",
    "\n",
    "\\begin{equation}\n",
    "\\int_0^\\infty B_\\lambda (T) d\\lambda = \\frac{\\sigma T^4}{\\pi},\n",
    "\\end{equation}\n",
    "\n",
    "and obtain a numerical estimate of the constant $\\sigma$."
   ]
  },
  {
   "cell_type": "markdown",
   "metadata": {},
   "source": [
    "---\n",
    "\n",
    "## 2.  Number Density of Electrons in an Astrophysical Environment\n",
    "\n",
    "In high temperature astrophysical environments ($T \\gtrsim 10^9\\,\\mathrm{K}$, corresponding to energies $k_B T\\sim\n",
    "80\\,\\mathrm{keV}$), the particle-antiparticle creation reaction, \n",
    "\n",
    "\\begin{equation}\n",
    "\\gamma \\leftrightarrow e^- + e^+ ,\n",
    "\\end{equation}\n",
    "\n",
    "comes into equilibrium. We will assume the\n",
    "limit of $k_B T = 20\\,\\mathrm{MeV} \\gg m_ec^2$, when the electrons\n",
    "become relativistic, i.e. $E_{e^-} \\sim E_{e^+} = pc$ where $p$ is the\n",
    "momentum of the electrons and positrons and $c$ is the speed of light.\n",
    "\n",
    "In such an environment, the number density of electrons/positrons is given by\n",
    "\n",
    "\\begin{equation}\n",
    "n_{e^\\pm} = {2 \\over (2\\pi\\hbar)^3}\\int { d^3\\vec{p} \\over\n",
    "  e^{\\beta c p} + 1} = {8\\pi \\over (2\\pi\\hbar)^3}\\int_0^\\infty {p^2 dp \\over\n",
    "  e^{\\beta c p} + 1},\n",
    "\\end{equation}\n",
    "\n",
    "where $\\beta = 1/(k_B T)$. Making the substitution of $x= \\beta p c$ to obtain a dimensionless integral, we obtain\n",
    "\n",
    "\\begin{equation}\n",
    "n_{e^\\pm}  =  {8\\pi (k_BT)^3 \\over (2\\pi\\hbar\n",
    "  c)^3}\\int_0^\\infty  {x^2 dx \\over\n",
    "  e^{x} + 1}.\n",
    "\\end{equation}\n",
    " \n",
    " Note that in this deduction we have considered that the chemical potential of the\n",
    "electrons (and  positrons) is 0.\n",
    "\n",
    "\n",
    "1. Use any of the presented integration methods to determine the total number density of electrons in this environment. Try different assumptions to ensure convergence (For example, consider different number of nodes). \n",
    "\n",
    "2. This formula not only has the total number of electrons (and positrons) but also encodes the spectral distribution. This is ${dn_{e^\\pm} \\over dE}$, which implies\n",
    "\n",
    "\\begin{equation}\n",
    "n_{e^\\pm} = \\int {dn_{e^\\pm}\\over dE} dE.\n",
    "\\end{equation}\n",
    "\n",
    "Create energy groups with $\\Delta E = 5\\,$MeV and evaluate $[dn_{e^\\pm}/dE]_i = [n_{e^\\pm}]_i / \\Delta E$ for each bin $i$. Verify your method by confirming that,\n",
    "\n",
    "\\begin{equation}\n",
    "\\sum_{i=0}^{\\infty}\\left[{dn_{e^\\pm}\\over\n",
    "    dE}\\right]_i \\times \\Delta E = n_{e^\\pm}\\,.\n",
    "\\end{equation}\n",
    "\n",
    "\n",
    "**Note:** You don't need to calculate an infinite number of $\\left[{dn_{e^\\pm}\\over dE}\\right]_i$, but rather high enough until the values are negliable. For example, up to the value $E \\sim 150\\,\\mathrm{MeV}$."
   ]
  },
  {
   "cell_type": "markdown",
   "metadata": {},
   "source": [
    "¡¡ Happy Coding !!"
   ]
  }
 ],
 "metadata": {
  "kernelspec": {
   "display_name": "Python 3",
   "language": "python",
   "name": "python3"
  },
  "language_info": {
   "codemirror_mode": {
    "name": "ipython",
    "version": 3
   },
   "file_extension": ".py",
   "mimetype": "text/x-python",
   "name": "python",
   "nbconvert_exporter": "python",
   "pygments_lexer": "ipython3",
   "version": "3.7.4"
  }
 },
 "nbformat": 4,
 "nbformat_minor": 2
}
