{
 "cells": [
  {
   "cell_type": "markdown",
   "metadata": {},
   "source": [
    "# Computational Astrophysics\n",
    "## Root Finding 01\n",
    "\n",
    "---\n",
    "## Eduard Larrañaga\n",
    "\n",
    "Observatorio Astronómico Nacional\\\n",
    "Facultad de Ciencias\\\n",
    "Universidad Nacional de Colombia\n",
    "\n",
    "---"
   ]
  },
  {
   "cell_type": "markdown",
   "metadata": {},
   "source": [
    "### About this notebook\n",
    "\n",
    "In this notebook we present some of the techniques to find the roots of a function.\n",
    "\n",
    "---"
   ]
  },
  {
   "cell_type": "markdown",
   "metadata": {},
   "source": [
    "It is often needed to find the root of a function, i.e., the values of a variable\n",
    "$x$ for which $f(x) = 0$. In general, $x$ could be a scalar or a vector quantitiy and $f$ could be a single function or could represent a system of equations. It is also possible that $f$ explicitly depends on $x$ or that $f$ depends implicitly on $x$.\n",
    "\n",
    "---\n",
    "## Newton-Raphson Method\n",
    "\n",
    "There are a variety of ways to find the roots of an equation, but the mos popular is the **Newton-Raphson** method. To describe this method, consider the expansion of a function $f(x)$ in a Taylor's series about a root $x_r$, \n",
    "\n",
    "\\begin{equation}\n",
    "f(x_r) = f(x) + (x_r - x) f'(x) +  \\mathcal{O}( (x_r - x)^2) = 0 .\n",
    "\\end{equation}\n",
    "\n",
    "The value $x_r$ can be seen as the value for the root at the $n$-th step of an iterative procedure. Hence, The $n+1$-th step in this iteration, up to first order, will be given by\n",
    "\n",
    "\\begin{equation}\n",
    "f(x_{n+1}) = f(x_n) + \\underbrace{(x_{n+1} - x_{n})}_{\\delta x}\n",
    "f'(x_n) \\approx 0 ,\n",
    "\\end{equation}\n",
    "\n",
    "from which we obtain\n",
    "\n",
    "\\begin{equation}\n",
    "x_{n+1} =  x_n - \\frac{f(x_n)}{f'(x_n)} .\n",
    "\\end{equation}\n",
    "\n",
    "The implementation of this iterative procedure will stop when the\n",
    "fractional change between iteration $n$ and $n+1$ is smaller than the floating point accuracy (machine's epsilon),\n",
    "\n",
    "\\begin{equation}\n",
    "\\left| \\frac{[f(x_{n+1}) - f(x_{n})]}{f({x_n})} \\right| < \\epsilon .\n",
    "\\end{equation}\n",
    "\n",
    "The convergence of the Newton-Raphson Method is second order if $f(x)$ is well\n",
    "behaved and if the initial value $x_0$ is a good guess for the root. \n",
    "\n",
    "Important Note: This method needs to know the analytical form of the first derivative $f'(x)$. If this is not the case, we will need to evaluate the derivative numerically, which gives the so-called **secant method** which is described below."
   ]
  },
  {
   "cell_type": "markdown",
   "metadata": {},
   "source": [
    "---\n",
    "### Secant Method\n",
    "\n",
    "As stated above, the secant method is similar to the Newton-Raphson method, but the first derivative $f'(x_n)$ is evaluated numerically. Usually, it is done with a backward difference, giving  the iterative procedure\n",
    "\n",
    "\\begin{equation}\n",
    "x_{n+1} = x_{n} - f(x_n)\\frac{x_n - x_{n-1}}{f(x_n) - f(x_{n-1})}\\,\\,.\n",
    "\\end{equation}\n",
    "\n",
    "Note that this iterative procedure needs two points to start, or  to have an initial guess for the first derivative, i.e. $f'(x_0)$.  Due to the inclusion of the numerical procedure to find the first derivative, it is clear that the secant method will converge less rapidly than the Newton-Raphson method. "
   ]
  },
  {
   "cell_type": "markdown",
   "metadata": {},
   "source": [
    "#### Example. Roots of a point-sampled function using Newton-Raphson ( secant ) Method\n",
    "\n",
    "We will read a data set from a .txt file and numerically find the root of the function using the Newton-Raphson (or secant) method. We will use a piecewise quadratic interpolation to model the function.\n",
    "\n",
    "We load the data and, before applying  the root finding method, we note that the root can be approximately localized graphically."
   ]
  },
  {
   "cell_type": "code",
   "execution_count": 2,
   "metadata": {},
   "outputs": [
    {
     "data": {
      "image/png": "[encoded data removed]",
      "text/plain": [
       "<Figure size 504x360 with 1 Axes>"
      ]
     },
     "metadata": {
      "needs_background": "light"
     },
     "output_type": "display_data"
    }
   ],
   "source": [
    "import numpy as np\n",
    "import matplotlib.pyplot as plt\n",
    "%matplotlib inline\n",
    "\n",
    "# Reading the data\n",
    "data = np.loadtxt('data_points.txt', comments='#', delimiter=',')\n",
    "x_data = data[:,0]\n",
    "f_data = data[:,1]\n",
    "\n",
    "plt.figure(figsize=(7,5))\n",
    "plt.plot(x_data, f_data, color='red')\n",
    "plt.title('')\n",
    "plt.xlabel(r'$x$')\n",
    "plt.ylabel(r'$f(x)$')\n",
    "plt.grid()\n",
    "plt.show()"
   ]
  },
  {
   "cell_type": "markdown",
   "metadata": {},
   "source": [
    " The root is somewhere between $x=0$ and $x=2$. Thus, we can restrict our attention to this interval:"
   ]
  },
  {
   "cell_type": "code",
   "execution_count": 3,
   "metadata": {},
   "outputs": [
    {
     "data": {
      "image/png": "[encoded data removed]",
      "text/plain": [
       "<Figure size 504x360 with 1 Axes>"
      ]
     },
     "metadata": {
      "needs_background": "light"
     },
     "output_type": "display_data"
    }
   ],
   "source": [
    "plt.figure(figsize=(7,5))\n",
    "plt.plot(x_data, f_data, color='red')\n",
    "plt.scatter(x_data, f_data, color='black')\n",
    "plt.title('')\n",
    "plt.xlabel(r'$x$')\n",
    "plt.ylabel(r'$f(x)$')\n",
    "plt.xlim(0,2)\n",
    "plt.ylim(-10,10)\n",
    "plt.grid()\n",
    "plt.show()"
   ]
  },
  {
   "cell_type": "markdown",
   "metadata": {},
   "source": [
    "This zoom of the plot shows that the root is inside the interval $1<x<1.75$. Therefore, we will search for three points in this interval in order to interpolate a quadratic polynomial piecewise and apply the root finding method."
   ]
  },
  {
   "cell_type": "code",
   "execution_count": 4,
   "metadata": {},
   "outputs": [
    {
     "name": "stdout",
     "output_type": "stream",
     "text": [
      "a =  30 : x_a =  1.12245 : f(x_a) =  2.44474\n"
     ]
    }
   ],
   "source": [
    "# Find the initial and final points of the restricted interval of \n",
    "# three points to interpolate.\n",
    "for i in range(len(x_data)-1):\n",
    "    if x_data[i]>=1:\n",
    "        a=i\n",
    "        break\n",
    "\n",
    "# The interval will include three points:\n",
    "# x[a], x[a+1], x[a+2]\n",
    "# Here we define the arrays that enter as arguments\n",
    "# for the interpolated polynomial\n",
    "x_int =[x_data[a], x_data[a+1], x_data[a+2]]\n",
    "f_int =[f_data[a], f_data[a+1], f_data[a+2]]\n",
    "\n",
    "print('a = ', a, ': x_a = ', x_data[a], ': f(x_a) = ', f_data[a])\n"
   ]
  },
  {
   "cell_type": "markdown",
   "metadata": {},
   "source": [
    "Now, we will use a quadratic polynomial interpolated piecewise in this restricted interval to find the root using the Newton-Raphson (or secant) method."
   ]
  },
  {
   "cell_type": "code",
   "execution_count": 5,
   "metadata": {},
   "outputs": [
    {
     "name": "stdout",
     "output_type": "stream",
     "text": [
      "The root is x_r = 1.32429525\n",
      "for which the interpolated function gives f(x_r) =  7.09501902e-16\n"
     ]
    }
   ],
   "source": [
    "# 2-order Interpolated Polynomial \n",
    "def p2(x):\n",
    "    pol = (((x-x_int[1])*(x-x_int[2]))/((x_int[0]-x_int[1])*(x_int[0]-x_int[2])))*f_int[0] +\\\n",
    "          (((x-x_int[0])*(x-x_int[2]))/((x_int[1]-x_int[0])*(x_int[1]-x_int[2])))*f_int[1] +\\\n",
    "          (((x-x_int[0])*(x-x_int[1]))/((x_int[2]-x_int[0])*(x_int[2]-x_int[1])))*f_int[2]\n",
    "    return pol\n",
    "\n",
    "\n",
    "# Newton-Raphson Method. We begin with the value at point x[a]\n",
    "root0 = x_data[a]-1e-5\n",
    "root = x_data[a]\n",
    "\n",
    "while np.abs(p2(root))>1e-10:\n",
    "    new_root = root - p2(root)*(root - root0)/(p2(root) - p2(root0))\n",
    "    root0, root = root, new_root\n",
    "\n",
    "print(f'The root is x_r = {root:.8f}')\n",
    "print(f'for which the interpolated function gives f(x_r) =  {p2(root):.8e}')\n",
    "\n"
   ]
  },
  {
   "cell_type": "markdown",
   "metadata": {},
   "source": [
    "We can also visualise the location of the root:"
   ]
  },
  {
   "cell_type": "code",
   "execution_count": 9,
   "metadata": {},
   "outputs": [
    {
     "data": {
      "image/png": "[encoded data removed]",
      "text/plain": [
       "<Figure size 504x360 with 1 Axes>"
      ]
     },
     "metadata": {
      "needs_background": "light"
     },
     "output_type": "display_data"
    }
   ],
   "source": [
    "plt.figure(figsize=(7,5))\n",
    "plt.plot(x_data, f_data, color='red')\n",
    "plt.scatter(x_data, f_data, color='black')\n",
    "plt.scatter(root, p2(root), color='blue', marker='*',s=150)\n",
    "plt.vlines(root, -7, p2(root), linestyle='dashed')\n",
    "plt.hlines(p2(root),0, root, linestyle='dashed')\n",
    "plt.title('Root')\n",
    "plt.xlabel(r'$x$')\n",
    "plt.ylabel(r'$f(x)$')\n",
    "plt.xlim(0.5,2)\n",
    "plt.ylim(-7,7)\n",
    "plt.grid()\n",
    "plt.show()"
   ]
  },
  {
   "cell_type": "markdown",
   "metadata": {},
   "source": [
    "---\n",
    "## Bisection Method\n",
    "\n",
    "The bisection method is based on the intermediate-value theorem, which states that a continuous function $f(x)$ has at least one root in the interval $[x_a,x_b]$ if $f(x_a)$ and\n",
    "$f(x_b)$ have opposite signs.\n",
    "\n",
    "Hence, the bisection method is implemented as\n",
    "\n",
    "1. Pick the initial values of $x_a$ and $x_b$ so that $f(x_a)$ and $f(x_b)$ have opposite signs.\n",
    "\n",
    "2. Compute the midpoint $x_c = \\frac{x_a+x_b}{2}$ and $f(x_c)$. \n",
    "\n",
    "3. If $f(x_c) = 0$ or\n",
    "  $\\left| \\frac{f(x_c) - f(x_a)}{f(x_a)} \\right| < \\epsilon$ or $\\left| \\frac{f(x_c) - f(x_b)}{f(x_b)} \\right| <\n",
    "  \\epsilon$, then he root has been found.\n",
    "  \n",
    "  If not:\n",
    "    * If $f(x_a)$ and $f(x_c)$ have opposite signs, then they\n",
    "      bracket a root. Go to (2) with $x_a=x_a$, $x_b=x_c$.\n",
    "      \n",
    "    * If $f(x_c)$ and $f(x_b)$ have opposite signs, then they\n",
    "      bracket a root. Got to (2) with $x_a=x_c$, $x_b=x_b$.\n",
    "  \n",
    "\n",
    "Although the bisection method is very effective and robust, it is generally not as fast as Newton's Method because it requires more iterations to find the root.\n"
   ]
  },
  {
   "cell_type": "markdown",
   "metadata": {},
   "source": [
    "#### Example. Roots of a point-sampled function using the Bisection Method\n",
    "\n",
    "We will read a data set from a .txt file and numerically find the root of the function using the bisection method. We will use a piecewise quadratic interpolation to model the function.\n",
    "\n",
    "We load the data and, before applying  the root finding method, we note that the root can be approximately localized graphically."
   ]
  },
  {
   "cell_type": "code",
   "execution_count": 10,
   "metadata": {
    "scrolled": true
   },
   "outputs": [
    {
     "data": {
      "image/png": "[encoded data removed]",
      "text/plain": [
       "<Figure size 504x360 with 1 Axes>"
      ]
     },
     "metadata": {
      "needs_background": "light"
     },
     "output_type": "display_data"
    }
   ],
   "source": [
    "import numpy as np\n",
    "import matplotlib.pyplot as plt\n",
    "\n",
    "# Reading the data\n",
    "data = np.loadtxt('data_points.txt', comments='#', delimiter=',')\n",
    "x_data = data[:,0]\n",
    "f_data = data[:,1]\n",
    "\n",
    "plt.figure(figsize=(7,5))\n",
    "plt.plot(x_data, f_data, color='red')\n",
    "plt.title('')\n",
    "plt.xlabel(r'$x$')\n",
    "plt.ylabel(r'$f(x)$')\n",
    "plt.grid()\n",
    "plt.show()"
   ]
  },
  {
   "cell_type": "markdown",
   "metadata": {},
   "source": [
    " The root is somewhere between $x=0$ and $x=2$. Thus, we can restrict our attention to this interval:"
   ]
  },
  {
   "cell_type": "code",
   "execution_count": 11,
   "metadata": {},
   "outputs": [
    {
     "data": {
      "image/png": "[encoded data removed]",
      "text/plain": [
       "<Figure size 504x360 with 1 Axes>"
      ]
     },
     "metadata": {
      "needs_background": "light"
     },
     "output_type": "display_data"
    }
   ],
   "source": [
    "plt.figure(figsize=(7,5))\n",
    "plt.plot(x_data, f_data, color='red')\n",
    "plt.scatter(x_data, f_data, color='black')\n",
    "plt.title('')\n",
    "plt.xlabel(r'$x$')\n",
    "plt.ylabel(r'$f(x)$')\n",
    "plt.xlim(0,2)\n",
    "plt.ylim(-10,10)\n",
    "plt.grid()\n",
    "plt.show()"
   ]
  },
  {
   "cell_type": "markdown",
   "metadata": {},
   "source": [
    "This zoom of the plot shows that the root is inside the interval $1<x<1.75$. Therefore, we will search for three points in this interval in order to interpolate a quadratic polynomial piecewise and apply the root finding method."
   ]
  },
  {
   "cell_type": "code",
   "execution_count": 15,
   "metadata": {},
   "outputs": [
    {
     "name": "stdout",
     "output_type": "stream",
     "text": [
      "a =  30 : x_a =  1.12245 : f(x_a) =  2.44474\n"
     ]
    }
   ],
   "source": [
    "# Find the initial and final points of the restricted interval of \n",
    "# three pints to interpolate.\n",
    "for i in range(len(x_data)-1):\n",
    "    if x_data[i]>=1:\n",
    "        a=i\n",
    "        break\n",
    "\n",
    "# The interval will include three points:\n",
    "# x[a], x[a+1], x[a+2]\n",
    "# Here we define the arrays that enter as arguments\n",
    "# for the interpolated polynomial\n",
    "x_int =[x_data[a], x_data[a+1], x_data[a+2]]\n",
    "f_int =[f_data[a], f_data[a+1], f_data[a+2]]\n",
    "\n",
    "print('a = ', a, ': x_a = ', x_data[a], ': f(x_a) = ', f_data[a])\n"
   ]
  },
  {
   "cell_type": "markdown",
   "metadata": {},
   "source": [
    "Now, we will use a quadratic polynomial interpolated piecewise in this restricted interval to find the root using the Newton-Raphson (or secant) method."
   ]
  },
  {
   "cell_type": "code",
   "execution_count": 16,
   "metadata": {},
   "outputs": [
    {
     "name": "stdout",
     "output_type": "stream",
     "text": [
      "The root is x_r = 1.32429525\n",
      "for which the interpolated function gives f(x_r) =  -2.53866234e-11\n"
     ]
    }
   ],
   "source": [
    "# 2-order Interpolated Polynomial \n",
    "def p2(x):\n",
    "    pol = (((x-x_int[1])*(x-x_int[2]))/((x_int[0]-x_int[1])*(x_int[0]-x_int[2])))*f_int[0] +\\\n",
    "          (((x-x_int[0])*(x-x_int[2]))/((x_int[1]-x_int[0])*(x_int[1]-x_int[2])))*f_int[1] +\\\n",
    "          (((x-x_int[0])*(x-x_int[1]))/((x_int[2]-x_int[0])*(x_int[2]-x_int[1])))*f_int[2]\n",
    "    return pol\n",
    "\n",
    "\n",
    "# Bisection Method. \n",
    "# We begin with the values at the points x_data[a] and x_data[a+2]\n",
    "x_a = x_data[a]\n",
    "x_b = x_data[a+2]\n",
    "x_c = (x_a + x_b)/2.\n",
    "\n",
    "while np.abs(p2(x_c)) > 1e-10:\n",
    "    x_c = (x_a + x_b)/2.\n",
    "    if p2(x_a)*p2(x_c) < 0:\n",
    "        x_b = x_c\n",
    "    else:\n",
    "        x_a = x_c\n",
    "\n",
    "root = x_c\n",
    "    \n",
    "print(f'The root is x_r = {root:.8f}')\n",
    "print(f'for which the interpolated function gives f(x_r) =  {p2(root):.8e}')\n",
    "\n"
   ]
  },
  {
   "cell_type": "code",
   "execution_count": null,
   "metadata": {},
   "outputs": [],
   "source": []
  }
 ],
 "metadata": {
  "kernelspec": {
   "display_name": "Python 3",
   "language": "python",
   "name": "python3"
  },
  "language_info": {
   "codemirror_mode": {
    "name": "ipython",
    "version": 3
   },
   "file_extension": ".py",
   "mimetype": "text/x-python",
   "name": "python",
   "nbconvert_exporter": "python",
   "pygments_lexer": "ipython3",
   "version": "3.7.4"
  }
 },
 "nbformat": 4,
 "nbformat_minor": 2
}
