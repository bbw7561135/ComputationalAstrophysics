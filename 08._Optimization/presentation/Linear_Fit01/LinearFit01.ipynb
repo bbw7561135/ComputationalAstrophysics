{
 "cells": [
  {
   "cell_type": "markdown",
   "metadata": {},
   "source": [
    "# Computational Astrophysics\n",
    "## Linear Fit Example 1\n",
    "---\n",
    "## Eduard Larrañaga\n",
    "\n",
    "Observatorio Astronómico Nacional\\\n",
    "Facultad de Ciencias\\\n",
    "Universidad Nacional de Colombia\n",
    "\n",
    "---"
   ]
  },
  {
   "cell_type": "markdown",
   "metadata": {},
   "source": [
    "### About this notebook\n",
    "\n",
    "In this worksheet, we consdier the discovery of the Expansion of the Universe by Edwin Hubble as example of a linear fit of experimental data.\n",
    "\n",
    "---"
   ]
  },
  {
   "cell_type": "code",
   "execution_count": 1,
   "metadata": {},
   "outputs": [],
   "source": [
    "import numpy as np\n",
    "from matplotlib import pyplot as plt\n",
    "import seaborn as sns\n",
    "sns.set()\n",
    "import pandas as pd\n",
    "%matplotlib inline"
   ]
  },
  {
   "cell_type": "markdown",
   "metadata": {},
   "source": [
    "### Edwin Hubble's data\n",
    "\n",
    "Around the 1920's, Edwin Hubble show that the \"nebulae\" were external galaxies and not part of our own Galaxy, the Milky Way. In a seminal paper, \n",
    "\n",
    "https://ui.adsabs.harvard.edu/abs/1931ApJ....74...43H\n",
    "\n",
    "E. Hubble and M. Humason determined that some of these galaxies moved away from Earth with a velocity $v$ that is proportional to their distance $d$, i.e.\n",
    "\n",
    "$v=H_0 d.$\n",
    "\n",
    "This relation is now known as *Hubble's law* and quantity $H_0$ is called the *Hubble constant*. It is usual to give the value of $H_0$ in units of $\\textrm{km}\\, \\textrm{s}^{-1} \\, \\textrm{Mpc}^{-1}$. \n",
    "The original data of Hubble and Humason is summarized in the data file `hubble.csv`.\n",
    "\n"
   ]
  },
  {
   "cell_type": "code",
   "execution_count": 2,
   "metadata": {},
   "outputs": [
    {
     "data": {
      "text/html": [
       "<div>\n",
       "<style scoped>\n",
       "    .dataframe tbody tr th:only-of-type {\n",
       "        vertical-align: middle;\n",
       "    }\n",
       "\n",
       "    .dataframe tbody tr th {\n",
       "        vertical-align: top;\n",
       "    }\n",
       "\n",
       "    .dataframe thead th {\n",
       "        text-align: right;\n",
       "    }\n",
       "</style>\n",
       "<table border=\"1\" class=\"dataframe\">\n",
       "  <thead>\n",
       "    <tr style=\"text-align: right;\">\n",
       "      <th></th>\n",
       "      <th>Name</th>\n",
       "      <th>N_measurements</th>\n",
       "      <th>velocity</th>\n",
       "      <th>mean_m</th>\n",
       "    </tr>\n",
       "  </thead>\n",
       "  <tbody>\n",
       "    <tr>\n",
       "      <td>0</td>\n",
       "      <td>Virgo</td>\n",
       "      <td>7</td>\n",
       "      <td>890</td>\n",
       "      <td>12.5</td>\n",
       "    </tr>\n",
       "    <tr>\n",
       "      <td>1</td>\n",
       "      <td>Pegasus</td>\n",
       "      <td>5</td>\n",
       "      <td>3810</td>\n",
       "      <td>15.5</td>\n",
       "    </tr>\n",
       "    <tr>\n",
       "      <td>2</td>\n",
       "      <td>Pisces</td>\n",
       "      <td>4</td>\n",
       "      <td>4630</td>\n",
       "      <td>15.4</td>\n",
       "    </tr>\n",
       "    <tr>\n",
       "      <td>3</td>\n",
       "      <td>Cancer</td>\n",
       "      <td>2</td>\n",
       "      <td>4820</td>\n",
       "      <td>16.0</td>\n",
       "    </tr>\n",
       "    <tr>\n",
       "      <td>4</td>\n",
       "      <td>Perseus</td>\n",
       "      <td>4</td>\n",
       "      <td>5230</td>\n",
       "      <td>16.4</td>\n",
       "    </tr>\n",
       "    <tr>\n",
       "      <td>5</td>\n",
       "      <td>Coma</td>\n",
       "      <td>3</td>\n",
       "      <td>7500</td>\n",
       "      <td>17.0</td>\n",
       "    </tr>\n",
       "    <tr>\n",
       "      <td>6</td>\n",
       "      <td>Ursa_Major</td>\n",
       "      <td>1</td>\n",
       "      <td>11800</td>\n",
       "      <td>18.0</td>\n",
       "    </tr>\n",
       "    <tr>\n",
       "      <td>7</td>\n",
       "      <td>Leo</td>\n",
       "      <td>1</td>\n",
       "      <td>19600</td>\n",
       "      <td>19.0</td>\n",
       "    </tr>\n",
       "    <tr>\n",
       "      <td>8</td>\n",
       "      <td>[No_Name]</td>\n",
       "      <td>16</td>\n",
       "      <td>2350</td>\n",
       "      <td>13.8</td>\n",
       "    </tr>\n",
       "    <tr>\n",
       "      <td>9</td>\n",
       "      <td>[No_Name]</td>\n",
       "      <td>16</td>\n",
       "      <td>630</td>\n",
       "      <td>11.6</td>\n",
       "    </tr>\n",
       "  </tbody>\n",
       "</table>\n",
       "</div>"
      ],
      "text/plain": [
       "         Name  N_measurements  velocity  mean_m\n",
       "0       Virgo               7       890    12.5\n",
       "1     Pegasus               5      3810    15.5\n",
       "2      Pisces               4      4630    15.4\n",
       "3      Cancer               2      4820    16.0\n",
       "4     Perseus               4      5230    16.4\n",
       "5        Coma               3      7500    17.0\n",
       "6  Ursa_Major               1     11800    18.0\n",
       "7         Leo               1     19600    19.0\n",
       "8   [No_Name]              16      2350    13.8\n",
       "9   [No_Name]              16       630    11.6"
      ]
     },
     "execution_count": 2,
     "metadata": {},
     "output_type": "execute_result"
    }
   ],
   "source": [
    "df = pd.read_csv(\"hubble.csv\")\n",
    "\n",
    "df"
   ]
  },
  {
   "cell_type": "code",
   "execution_count": 3,
   "metadata": {},
   "outputs": [
    {
     "data": {
      "text/html": [
       "<div>\n",
       "<style scoped>\n",
       "    .dataframe tbody tr th:only-of-type {\n",
       "        vertical-align: middle;\n",
       "    }\n",
       "\n",
       "    .dataframe tbody tr th {\n",
       "        vertical-align: top;\n",
       "    }\n",
       "\n",
       "    .dataframe thead th {\n",
       "        text-align: right;\n",
       "    }\n",
       "</style>\n",
       "<table border=\"1\" class=\"dataframe\">\n",
       "  <thead>\n",
       "    <tr style=\"text-align: right;\">\n",
       "      <th></th>\n",
       "      <th>N_measurements</th>\n",
       "      <th>velocity</th>\n",
       "      <th>mean_m</th>\n",
       "    </tr>\n",
       "  </thead>\n",
       "  <tbody>\n",
       "    <tr>\n",
       "      <td>count</td>\n",
       "      <td>10.000000</td>\n",
       "      <td>10.000000</td>\n",
       "      <td>10.000000</td>\n",
       "    </tr>\n",
       "    <tr>\n",
       "      <td>mean</td>\n",
       "      <td>5.900000</td>\n",
       "      <td>6126.000000</td>\n",
       "      <td>15.520000</td>\n",
       "    </tr>\n",
       "    <tr>\n",
       "      <td>std</td>\n",
       "      <td>5.626327</td>\n",
       "      <td>5750.565576</td>\n",
       "      <td>2.331332</td>\n",
       "    </tr>\n",
       "    <tr>\n",
       "      <td>min</td>\n",
       "      <td>1.000000</td>\n",
       "      <td>630.000000</td>\n",
       "      <td>11.600000</td>\n",
       "    </tr>\n",
       "    <tr>\n",
       "      <td>25%</td>\n",
       "      <td>2.250000</td>\n",
       "      <td>2715.000000</td>\n",
       "      <td>14.200000</td>\n",
       "    </tr>\n",
       "    <tr>\n",
       "      <td>50%</td>\n",
       "      <td>4.000000</td>\n",
       "      <td>4725.000000</td>\n",
       "      <td>15.750000</td>\n",
       "    </tr>\n",
       "    <tr>\n",
       "      <td>75%</td>\n",
       "      <td>6.500000</td>\n",
       "      <td>6932.500000</td>\n",
       "      <td>16.850000</td>\n",
       "    </tr>\n",
       "    <tr>\n",
       "      <td>max</td>\n",
       "      <td>16.000000</td>\n",
       "      <td>19600.000000</td>\n",
       "      <td>19.000000</td>\n",
       "    </tr>\n",
       "  </tbody>\n",
       "</table>\n",
       "</div>"
      ],
      "text/plain": [
       "       N_measurements      velocity     mean_m\n",
       "count       10.000000     10.000000  10.000000\n",
       "mean         5.900000   6126.000000  15.520000\n",
       "std          5.626327   5750.565576   2.331332\n",
       "min          1.000000    630.000000  11.600000\n",
       "25%          2.250000   2715.000000  14.200000\n",
       "50%          4.000000   4725.000000  15.750000\n",
       "75%          6.500000   6932.500000  16.850000\n",
       "max         16.000000  19600.000000  19.000000"
      ]
     },
     "execution_count": 3,
     "metadata": {},
     "output_type": "execute_result"
    }
   ],
   "source": [
    "df.describe()"
   ]
  },
  {
   "cell_type": "markdown",
   "metadata": {},
   "source": [
    "The data in the data frame includes 10 samples (Nebulae) with 4 features:\n",
    "\n",
    "**Name** : Name of the nebula \\\n",
    "**N_measurement** : Number of velocities measured by Hubble and Humason \\\n",
    "**velocity** : Mean velocity of the nebula measured in km/s \\\n",
    "**mean_m** : Apparent magnitude of the nebula\n",
    "\n",
    "___\n",
    "\n",
    "The apaprent magnitude is related to the distance in parsecs through the relation\n",
    "\n",
    "$\\log_{10} d = \\frac{m-M+5}{5}$\n",
    "\n",
    "where $M=-13.8$ is the absolute magnitude reported by Hubble and considered as a constant in the paper.\n",
    "\n",
    "The relation of velocity vs. apparent magnitude gives the plot\n"
   ]
  },
  {
   "cell_type": "code",
   "execution_count": 4,
   "metadata": {},
   "outputs": [
    {
     "data": {
      "image/png": "[encoded data removed]",
      "text/plain": [
       "<Figure size 432x288 with 1 Axes>"
      ]
     },
     "metadata": {
      "needs_background": "light"
     },
     "output_type": "display_data"
    }
   ],
   "source": [
    "plt.scatter(df['mean_m'], df['velocity'])\n",
    "plt.xlabel(r'$m$')\n",
    "plt.ylabel(r'velocity [km/s]')\n",
    "plt.show()"
   ]
  },
  {
   "cell_type": "markdown",
   "metadata": {},
   "source": [
    "This plot is clearly non linear. Hence, we will introduce a column in the dataframe including the logarithm of the velocity."
   ]
  },
  {
   "cell_type": "code",
   "execution_count": 5,
   "metadata": {},
   "outputs": [
    {
     "data": {
      "text/html": [
       "<div>\n",
       "<style scoped>\n",
       "    .dataframe tbody tr th:only-of-type {\n",
       "        vertical-align: middle;\n",
       "    }\n",
       "\n",
       "    .dataframe tbody tr th {\n",
       "        vertical-align: top;\n",
       "    }\n",
       "\n",
       "    .dataframe thead th {\n",
       "        text-align: right;\n",
       "    }\n",
       "</style>\n",
       "<table border=\"1\" class=\"dataframe\">\n",
       "  <thead>\n",
       "    <tr style=\"text-align: right;\">\n",
       "      <th></th>\n",
       "      <th>Name</th>\n",
       "      <th>N_measurements</th>\n",
       "      <th>velocity</th>\n",
       "      <th>mean_m</th>\n",
       "      <th>log10_velocity</th>\n",
       "    </tr>\n",
       "  </thead>\n",
       "  <tbody>\n",
       "    <tr>\n",
       "      <td>0</td>\n",
       "      <td>Virgo</td>\n",
       "      <td>7</td>\n",
       "      <td>890</td>\n",
       "      <td>12.5</td>\n",
       "      <td>2.949390</td>\n",
       "    </tr>\n",
       "    <tr>\n",
       "      <td>1</td>\n",
       "      <td>Pegasus</td>\n",
       "      <td>5</td>\n",
       "      <td>3810</td>\n",
       "      <td>15.5</td>\n",
       "      <td>3.580925</td>\n",
       "    </tr>\n",
       "    <tr>\n",
       "      <td>2</td>\n",
       "      <td>Pisces</td>\n",
       "      <td>4</td>\n",
       "      <td>4630</td>\n",
       "      <td>15.4</td>\n",
       "      <td>3.665581</td>\n",
       "    </tr>\n",
       "    <tr>\n",
       "      <td>3</td>\n",
       "      <td>Cancer</td>\n",
       "      <td>2</td>\n",
       "      <td>4820</td>\n",
       "      <td>16.0</td>\n",
       "      <td>3.683047</td>\n",
       "    </tr>\n",
       "    <tr>\n",
       "      <td>4</td>\n",
       "      <td>Perseus</td>\n",
       "      <td>4</td>\n",
       "      <td>5230</td>\n",
       "      <td>16.4</td>\n",
       "      <td>3.718502</td>\n",
       "    </tr>\n",
       "    <tr>\n",
       "      <td>5</td>\n",
       "      <td>Coma</td>\n",
       "      <td>3</td>\n",
       "      <td>7500</td>\n",
       "      <td>17.0</td>\n",
       "      <td>3.875061</td>\n",
       "    </tr>\n",
       "    <tr>\n",
       "      <td>6</td>\n",
       "      <td>Ursa_Major</td>\n",
       "      <td>1</td>\n",
       "      <td>11800</td>\n",
       "      <td>18.0</td>\n",
       "      <td>4.071882</td>\n",
       "    </tr>\n",
       "    <tr>\n",
       "      <td>7</td>\n",
       "      <td>Leo</td>\n",
       "      <td>1</td>\n",
       "      <td>19600</td>\n",
       "      <td>19.0</td>\n",
       "      <td>4.292256</td>\n",
       "    </tr>\n",
       "    <tr>\n",
       "      <td>8</td>\n",
       "      <td>[No_Name]</td>\n",
       "      <td>16</td>\n",
       "      <td>2350</td>\n",
       "      <td>13.8</td>\n",
       "      <td>3.371068</td>\n",
       "    </tr>\n",
       "    <tr>\n",
       "      <td>9</td>\n",
       "      <td>[No_Name]</td>\n",
       "      <td>16</td>\n",
       "      <td>630</td>\n",
       "      <td>11.6</td>\n",
       "      <td>2.799341</td>\n",
       "    </tr>\n",
       "  </tbody>\n",
       "</table>\n",
       "</div>"
      ],
      "text/plain": [
       "         Name  N_measurements  velocity  mean_m  log10_velocity\n",
       "0       Virgo               7       890    12.5        2.949390\n",
       "1     Pegasus               5      3810    15.5        3.580925\n",
       "2      Pisces               4      4630    15.4        3.665581\n",
       "3      Cancer               2      4820    16.0        3.683047\n",
       "4     Perseus               4      5230    16.4        3.718502\n",
       "5        Coma               3      7500    17.0        3.875061\n",
       "6  Ursa_Major               1     11800    18.0        4.071882\n",
       "7         Leo               1     19600    19.0        4.292256\n",
       "8   [No_Name]              16      2350    13.8        3.371068\n",
       "9   [No_Name]              16       630    11.6        2.799341"
      ]
     },
     "execution_count": 5,
     "metadata": {},
     "output_type": "execute_result"
    }
   ],
   "source": [
    "df['log10_velocity'] = np.log10(df['velocity'])\n",
    "df"
   ]
  },
  {
   "cell_type": "code",
   "execution_count": 6,
   "metadata": {},
   "outputs": [
    {
     "data": {
      "text/html": [
       "<div>\n",
       "<style scoped>\n",
       "    .dataframe tbody tr th:only-of-type {\n",
       "        vertical-align: middle;\n",
       "    }\n",
       "\n",
       "    .dataframe tbody tr th {\n",
       "        vertical-align: top;\n",
       "    }\n",
       "\n",
       "    .dataframe thead th {\n",
       "        text-align: right;\n",
       "    }\n",
       "</style>\n",
       "<table border=\"1\" class=\"dataframe\">\n",
       "  <thead>\n",
       "    <tr style=\"text-align: right;\">\n",
       "      <th></th>\n",
       "      <th>N_measurements</th>\n",
       "      <th>velocity</th>\n",
       "      <th>mean_m</th>\n",
       "      <th>log10_velocity</th>\n",
       "    </tr>\n",
       "  </thead>\n",
       "  <tbody>\n",
       "    <tr>\n",
       "      <td>count</td>\n",
       "      <td>10.000000</td>\n",
       "      <td>10.000000</td>\n",
       "      <td>10.000000</td>\n",
       "      <td>10.000000</td>\n",
       "    </tr>\n",
       "    <tr>\n",
       "      <td>mean</td>\n",
       "      <td>5.900000</td>\n",
       "      <td>6126.000000</td>\n",
       "      <td>15.520000</td>\n",
       "      <td>3.600705</td>\n",
       "    </tr>\n",
       "    <tr>\n",
       "      <td>std</td>\n",
       "      <td>5.626327</td>\n",
       "      <td>5750.565576</td>\n",
       "      <td>2.331332</td>\n",
       "      <td>0.461869</td>\n",
       "    </tr>\n",
       "    <tr>\n",
       "      <td>min</td>\n",
       "      <td>1.000000</td>\n",
       "      <td>630.000000</td>\n",
       "      <td>11.600000</td>\n",
       "      <td>2.799341</td>\n",
       "    </tr>\n",
       "    <tr>\n",
       "      <td>25%</td>\n",
       "      <td>2.250000</td>\n",
       "      <td>2715.000000</td>\n",
       "      <td>14.200000</td>\n",
       "      <td>3.423532</td>\n",
       "    </tr>\n",
       "    <tr>\n",
       "      <td>50%</td>\n",
       "      <td>4.000000</td>\n",
       "      <td>4725.000000</td>\n",
       "      <td>15.750000</td>\n",
       "      <td>3.674314</td>\n",
       "    </tr>\n",
       "    <tr>\n",
       "      <td>75%</td>\n",
       "      <td>6.500000</td>\n",
       "      <td>6932.500000</td>\n",
       "      <td>16.850000</td>\n",
       "      <td>3.835921</td>\n",
       "    </tr>\n",
       "    <tr>\n",
       "      <td>max</td>\n",
       "      <td>16.000000</td>\n",
       "      <td>19600.000000</td>\n",
       "      <td>19.000000</td>\n",
       "      <td>4.292256</td>\n",
       "    </tr>\n",
       "  </tbody>\n",
       "</table>\n",
       "</div>"
      ],
      "text/plain": [
       "       N_measurements      velocity     mean_m  log10_velocity\n",
       "count       10.000000     10.000000  10.000000       10.000000\n",
       "mean         5.900000   6126.000000  15.520000        3.600705\n",
       "std          5.626327   5750.565576   2.331332        0.461869\n",
       "min          1.000000    630.000000  11.600000        2.799341\n",
       "25%          2.250000   2715.000000  14.200000        3.423532\n",
       "50%          4.000000   4725.000000  15.750000        3.674314\n",
       "75%          6.500000   6932.500000  16.850000        3.835921\n",
       "max         16.000000  19600.000000  19.000000        4.292256"
      ]
     },
     "execution_count": 6,
     "metadata": {},
     "output_type": "execute_result"
    }
   ],
   "source": [
    "df.describe()"
   ]
  },
  {
   "cell_type": "code",
   "execution_count": 7,
   "metadata": {},
   "outputs": [
    {
     "data": {
      "image/png": "[encoded data removed]",
      "text/plain": [
       "<Figure size 432x288 with 1 Axes>"
      ]
     },
     "metadata": {
      "needs_background": "light"
     },
     "output_type": "display_data"
    }
   ],
   "source": [
    "plt.scatter(df['mean_m'], df['log10_velocity'])\n",
    "plt.xlabel(r'apparent magnitude')\n",
    "plt.ylabel(r'logarithm of velocity')\n",
    "plt.show()"
   ]
  },
  {
   "cell_type": "markdown",
   "metadata": {},
   "source": [
    "### Linear Fit\n",
    "\n",
    "Since the plot of the logarithm of the velocity vs. apparent magnitude has a linear tendence, we will create a linear fit for this data (including the possibility of having error in the y measurements)."
   ]
  },
  {
   "cell_type": "code",
   "execution_count": 8,
   "metadata": {},
   "outputs": [],
   "source": [
    "import LinearFit as lf"
   ]
  },
  {
   "cell_type": "markdown",
   "metadata": {},
   "source": [
    "Since we have no information about the observational error, we use a constant value of $\\sigma_i = 1$"
   ]
  },
  {
   "cell_type": "code",
   "execution_count": 9,
   "metadata": {},
   "outputs": [],
   "source": [
    "number_rows = df['log10_velocity'].count()\n",
    "error_y = np.ones(number_rows)"
   ]
  },
  {
   "cell_type": "markdown",
   "metadata": {},
   "source": [
    "Now we make the linear fit"
   ]
  },
  {
   "cell_type": "code",
   "execution_count": 10,
   "metadata": {},
   "outputs": [
    {
     "data": {
      "text/plain": [
       "(0.5484040402255217,\n",
       " 0.19666889208743046,\n",
       " 0.027902852936639286,\n",
       " 0.9922507256121249)"
      ]
     },
     "execution_count": 10,
     "metadata": {},
     "output_type": "execute_result"
    }
   ],
   "source": [
    "a_1, a_2 , sigma_a1, sigma_a2, chi2, R2 = lf.linear_fit(df['mean_m'],df['log10_velocity'],error_y)\n",
    "a_1, a_2, chi2, R2"
   ]
  },
  {
   "cell_type": "markdown",
   "metadata": {},
   "source": [
    "The obtained relation fits very well the observational data, with a value of $\\chi ^2 = 0.028 $ and a score of $R^2 = 0.99$. The plot shows the good fit"
   ]
  },
  {
   "cell_type": "code",
   "execution_count": 11,
   "metadata": {},
   "outputs": [
    {
     "data": {
      "image/png": "[encoded data removed]",
      "text/plain": [
       "<Figure size 360x360 with 1 Axes>"
      ]
     },
     "metadata": {
      "needs_background": "light"
     },
     "output_type": "display_data"
    }
   ],
   "source": [
    "m_range= np.linspace(10,20,40)\n",
    "logV = a_1 + a_2*m_range\n",
    "\n",
    "plt.figure(figsize=(5,5))\n",
    "plt.scatter(df['mean_m'], df['log10_velocity'],label='observational data')\n",
    "plt.plot(m_range,logV,'--k', label='linear fit')\n",
    "\n",
    "\n",
    "plt.xlabel(r'apparent magnitude')\n",
    "plt.ylabel(r'logarithm of velocity')\n",
    "plt.legend()\n",
    "plt.show()"
   ]
  },
  {
   "cell_type": "markdown",
   "metadata": {},
   "source": [
    "The obtained linear model gives the relation between velocity and apparent magnitude as\n",
    "\n",
    "$\\log_{10} v = a_1 + a_2 m = 0.548 + 0.197 m$.\n",
    "\n",
    "At this point we will assume, as Hubble and Humason did, that the coefficient of $m$ in this equation will be $0.2$, and therefore the equation becomes\n",
    "\n",
    "$\\log_{10} v = a_1 + a_2 m = 0.548 + 0.2 m$.\n",
    "\n",
    "From the expression for the distance, we have \n",
    "\n",
    "$\\log_{10} d = \\frac{m-M+5}{5} \\,  \\rightarrow \\, \\log_{10} d = 0.2m - 0.2M + 1$\n",
    "\n",
    "and therefore we can write\n",
    "\n",
    "$\\log_{10} \\left( \\frac{v}{d} \\right) = \\log_{10}v - \\log_{10} d = a_1  - 1+ 0.2M $.\n",
    "\n",
    "Using  the obtained value for $a_1$ and $M=-13.8$ we get\n",
    "\n",
    "$\\log_{10} \\left( \\frac{v}{d} \\right) = -3.212$,\n",
    "\n",
    "which gives the Hubble constant\n",
    "\n",
    "$H_0 = \\frac{v}{d} = 10^{-3.212} = 614 \\times 10^{-6} \\textrm{ km } \\textrm{s}^{-1} \\textrm{ pc}^{-1} = 614 \\textrm{ km } \\textrm{s}^{-1} \\textrm{ Mpc}^{-1}$ \n",
    "\n",
    "---"
   ]
  },
  {
   "cell_type": "markdown",
   "metadata": {},
   "source": [
    "### Alternative Linear Fit\n",
    "\n",
    "We can perform another linear fit, introducing directly the distance as a feature in the dataframe,"
   ]
  },
  {
   "cell_type": "code",
   "execution_count": 12,
   "metadata": {},
   "outputs": [
    {
     "data": {
      "text/html": [
       "<div>\n",
       "<style scoped>\n",
       "    .dataframe tbody tr th:only-of-type {\n",
       "        vertical-align: middle;\n",
       "    }\n",
       "\n",
       "    .dataframe tbody tr th {\n",
       "        vertical-align: top;\n",
       "    }\n",
       "\n",
       "    .dataframe thead th {\n",
       "        text-align: right;\n",
       "    }\n",
       "</style>\n",
       "<table border=\"1\" class=\"dataframe\">\n",
       "  <thead>\n",
       "    <tr style=\"text-align: right;\">\n",
       "      <th></th>\n",
       "      <th>Name</th>\n",
       "      <th>N_measurements</th>\n",
       "      <th>velocity</th>\n",
       "      <th>mean_m</th>\n",
       "      <th>log10_velocity</th>\n",
       "      <th>log10_distance</th>\n",
       "    </tr>\n",
       "  </thead>\n",
       "  <tbody>\n",
       "    <tr>\n",
       "      <td>0</td>\n",
       "      <td>Virgo</td>\n",
       "      <td>7</td>\n",
       "      <td>890</td>\n",
       "      <td>12.5</td>\n",
       "      <td>2.949390</td>\n",
       "      <td>6.26</td>\n",
       "    </tr>\n",
       "    <tr>\n",
       "      <td>1</td>\n",
       "      <td>Pegasus</td>\n",
       "      <td>5</td>\n",
       "      <td>3810</td>\n",
       "      <td>15.5</td>\n",
       "      <td>3.580925</td>\n",
       "      <td>6.86</td>\n",
       "    </tr>\n",
       "    <tr>\n",
       "      <td>2</td>\n",
       "      <td>Pisces</td>\n",
       "      <td>4</td>\n",
       "      <td>4630</td>\n",
       "      <td>15.4</td>\n",
       "      <td>3.665581</td>\n",
       "      <td>6.84</td>\n",
       "    </tr>\n",
       "    <tr>\n",
       "      <td>3</td>\n",
       "      <td>Cancer</td>\n",
       "      <td>2</td>\n",
       "      <td>4820</td>\n",
       "      <td>16.0</td>\n",
       "      <td>3.683047</td>\n",
       "      <td>6.96</td>\n",
       "    </tr>\n",
       "    <tr>\n",
       "      <td>4</td>\n",
       "      <td>Perseus</td>\n",
       "      <td>4</td>\n",
       "      <td>5230</td>\n",
       "      <td>16.4</td>\n",
       "      <td>3.718502</td>\n",
       "      <td>7.04</td>\n",
       "    </tr>\n",
       "    <tr>\n",
       "      <td>5</td>\n",
       "      <td>Coma</td>\n",
       "      <td>3</td>\n",
       "      <td>7500</td>\n",
       "      <td>17.0</td>\n",
       "      <td>3.875061</td>\n",
       "      <td>7.16</td>\n",
       "    </tr>\n",
       "    <tr>\n",
       "      <td>6</td>\n",
       "      <td>Ursa_Major</td>\n",
       "      <td>1</td>\n",
       "      <td>11800</td>\n",
       "      <td>18.0</td>\n",
       "      <td>4.071882</td>\n",
       "      <td>7.36</td>\n",
       "    </tr>\n",
       "    <tr>\n",
       "      <td>7</td>\n",
       "      <td>Leo</td>\n",
       "      <td>1</td>\n",
       "      <td>19600</td>\n",
       "      <td>19.0</td>\n",
       "      <td>4.292256</td>\n",
       "      <td>7.56</td>\n",
       "    </tr>\n",
       "    <tr>\n",
       "      <td>8</td>\n",
       "      <td>[No_Name]</td>\n",
       "      <td>16</td>\n",
       "      <td>2350</td>\n",
       "      <td>13.8</td>\n",
       "      <td>3.371068</td>\n",
       "      <td>6.52</td>\n",
       "    </tr>\n",
       "    <tr>\n",
       "      <td>9</td>\n",
       "      <td>[No_Name]</td>\n",
       "      <td>16</td>\n",
       "      <td>630</td>\n",
       "      <td>11.6</td>\n",
       "      <td>2.799341</td>\n",
       "      <td>6.08</td>\n",
       "    </tr>\n",
       "  </tbody>\n",
       "</table>\n",
       "</div>"
      ],
      "text/plain": [
       "         Name  N_measurements  velocity  mean_m  log10_velocity  \\\n",
       "0       Virgo               7       890    12.5        2.949390   \n",
       "1     Pegasus               5      3810    15.5        3.580925   \n",
       "2      Pisces               4      4630    15.4        3.665581   \n",
       "3      Cancer               2      4820    16.0        3.683047   \n",
       "4     Perseus               4      5230    16.4        3.718502   \n",
       "5        Coma               3      7500    17.0        3.875061   \n",
       "6  Ursa_Major               1     11800    18.0        4.071882   \n",
       "7         Leo               1     19600    19.0        4.292256   \n",
       "8   [No_Name]              16      2350    13.8        3.371068   \n",
       "9   [No_Name]              16       630    11.6        2.799341   \n",
       "\n",
       "   log10_distance  \n",
       "0            6.26  \n",
       "1            6.86  \n",
       "2            6.84  \n",
       "3            6.96  \n",
       "4            7.04  \n",
       "5            7.16  \n",
       "6            7.36  \n",
       "7            7.56  \n",
       "8            6.52  \n",
       "9            6.08  "
      ]
     },
     "execution_count": 12,
     "metadata": {},
     "output_type": "execute_result"
    }
   ],
   "source": [
    "M = -13.8\n",
    "df['log10_distance'] = (df['mean_m'] - M + 5.)/5.\n",
    "df"
   ]
  },
  {
   "cell_type": "markdown",
   "metadata": {},
   "source": [
    "The linear behavior can be seen in a plot of $\\log_{10} v$ vs. $\\log_{10} d$,"
   ]
  },
  {
   "cell_type": "code",
   "execution_count": 13,
   "metadata": {},
   "outputs": [
    {
     "data": {
      "image/png": "[encoded data removed]",
      "text/plain": [
       "<Figure size 432x288 with 1 Axes>"
      ]
     },
     "metadata": {
      "needs_background": "light"
     },
     "output_type": "display_data"
    }
   ],
   "source": [
    "plt.scatter(df['log10_distance'], df['log10_velocity'])\n",
    "plt.xlabel(r'logarithm of distance')\n",
    "plt.ylabel(r'logarithm of velocity')\n",
    "plt.show()"
   ]
  },
  {
   "cell_type": "markdown",
   "metadata": {},
   "source": [
    "Hence, we create the linear fit between these variables."
   ]
  },
  {
   "cell_type": "code",
   "execution_count": 14,
   "metadata": {},
   "outputs": [
    {
     "data": {
      "text/plain": [
       "(-3.1489711310180266,\n",
       " 0.9833444604370973,\n",
       " 0.027902852936639126,\n",
       " 0.992250725612125)"
      ]
     },
     "execution_count": 14,
     "metadata": {},
     "output_type": "execute_result"
    }
   ],
   "source": [
    "number_rows = df['log10_velocity'].count()\n",
    "error_y = np.ones(number_rows)\n",
    "\n",
    "a_1, a_2 , sigma_a1, sigma_a2, chi2, R2 = lf.linear_fit(df['log10_distance'],df['log10_velocity'],error_y)\n",
    "a_1, a_2, chi2, R2"
   ]
  },
  {
   "cell_type": "markdown",
   "metadata": {},
   "source": [
    "One again, the fit has a value of $\\chi ^2 = 0.028 $ and a score of $R^2 = 0.99$. The plot shows the good fit:"
   ]
  },
  {
   "cell_type": "code",
   "execution_count": 15,
   "metadata": {},
   "outputs": [
    {
     "data": {
      "image/png": "[encoded data removed]",
      "text/plain": [
       "<Figure size 360x360 with 1 Axes>"
      ]
     },
     "metadata": {
      "needs_background": "light"
     },
     "output_type": "display_data"
    }
   ],
   "source": [
    "distance_range= np.linspace(6,8,20)\n",
    "logV = a_1 + a_2*distance_range\n",
    "\n",
    "plt.figure(figsize=(5,5))\n",
    "plt.scatter(df['log10_distance'], df['log10_velocity'],label='observational data')\n",
    "plt.plot(distance_range,logV,'--k', label='linear fit')\n",
    "\n",
    "\n",
    "plt.xlabel(r'logarithm of distance')\n",
    "plt.ylabel(r'logarithm of velocity')\n",
    "plt.legend()\n",
    "plt.show()"
   ]
  },
  {
   "cell_type": "markdown",
   "metadata": {},
   "source": [
    "The obtained linear model gives the relation between velocity and distance as\n",
    "\n",
    "$\\log_{10} v = a_1 + a_2 \\log_{10} d = -3.15 + 0.98 \\log_{10} d$.\n",
    "\n",
    "At this point we will assume that the coefficient of $\\log_{10} d$ in this equation will be approximately $1$, and therefore the equation becomes\n",
    "\n",
    "$\\log_{10} v = a_1 + a_2 m = -3.15 +\\log_{10}$.\n",
    "\n",
    "From this expression we have \n",
    "\n",
    "$\\log_{10} \\left( \\frac{v}{d} \\right) = \\log_{10}v - \\log_{10} d = -3.15 $,\n",
    "\n",
    "and therefore the Hubble constant is\n",
    "\n",
    "$H_0 = \\frac{v}{d} = 10^{-3.15} = 708 \\times 10^{-6} \\textrm{ km } \\textrm{s}^{-1} \\textrm{ pc}^{-1} = 708 \\textrm{ km } \\textrm{s}^{-1} \\textrm{ Mpc}^{-1}$ \n",
    "\n",
    "---"
   ]
  },
  {
   "cell_type": "code",
   "execution_count": null,
   "metadata": {},
   "outputs": [],
   "source": []
  }
 ],
 "metadata": {
  "kernelspec": {
   "display_name": "Python 3",
   "language": "python",
   "name": "python3"
  },
  "language_info": {
   "codemirror_mode": {
    "name": "ipython",
    "version": 3
   },
   "file_extension": ".py",
   "mimetype": "text/x-python",
   "name": "python",
   "nbconvert_exporter": "python",
   "pygments_lexer": "ipython3",
   "version": "3.7.4"
  }
 },
 "nbformat": 4,
 "nbformat_minor": 2
}
