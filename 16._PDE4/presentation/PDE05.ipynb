{
 "cells": [
  {
   "cell_type": "markdown",
   "metadata": {},
   "source": [
    "# Computational Astrophysics\n",
    "## Partial Differential Equations. 05\n",
    "## Non-Linear Hiperbolic PDE. Burguer's Equation\n",
    "\n",
    "---\n",
    "## Eduard Larrañaga\n",
    "\n",
    "Observatorio Astronómico Nacional\\\n",
    "Facultad de Ciencias\\\n",
    "Universidad Nacional de Colombia\n",
    "\n",
    "---"
   ]
  },
  {
   "cell_type": "markdown",
   "metadata": {},
   "source": [
    "### About this notebook\n",
    "\n",
    "In this notebook we present some of the techniques used to solve the linear advection equation.\n",
    "\n",
    "`A. Garcia. Numerical Methods for Physics. (1999). Chapter 6 - 7 `\n",
    "\n",
    "---"
   ]
  },
  {
   "cell_type": "markdown",
   "metadata": {},
   "source": [
    "##  The Linear 1-D Advection Equation\n",
    "\n",
    "The linear advection equation is \n",
    "\n",
    "\\begin{equation}\n",
    "\\label{eq:advect}\n",
    "\\partial_t u + v \\partial_x u = 0\n",
    "\\end{equation}\n",
    "\n",
    "where $u(t,x)$ is some scalar quantity and $v$ is the constant velocity at\n",
    "which it is advected ($v > 0$ advects to the right).\n",
    "\n",
    "The solution to\n",
    "this equation is to simply take the initial data, $u(t=0,x)$,\n",
    "and displace it to the right at a speed $v$.  The shape of the initial\n",
    "data is preserved in the advection. Direct substitution shows that $u(x - vt)$ is a solution to\n",
    "advection equation for any choice of u. This means that\n",
    "the solution is constant along the lines $x = v t$\n",
    "(the curves along which the solution is constant are called the\n",
    "characteristics).\n",
    "\n",
    "Many hyperbolic systems of PDEs,\n",
    "e.g. the equations of hydrodynamics, can be written in a form that\n",
    "looks like a system of (nonlinear) advection equations, so the\n",
    "advection equation provides important insight into the methods used\n",
    "for these systems.\n",
    "\n",
    "<img src=\"advectioncharact.jpeg\" alt=\"drawing\" width=\"500\"/>\n"
   ]
  },
  {
   "cell_type": "markdown",
   "metadata": {},
   "source": [
    "---\n",
    "\n",
    "## Non-linear Hyperbolic PDE. Burguer's Equation\n",
    "\n",
    "Burgers' equation is the simplest **nonlinear hyperbolic equation**,\n",
    "\n",
    "\\begin{equation}\n",
    "\\partial_t u + u \\partial_x u = 0.\n",
    "\\end{equation}\n",
    "\n",
    "It is almost identical to the advection equation treated before, but this time the wave speed is \n",
    "**NOT a constant** $v$ but is\n",
    "given by the field $u$ itself. \n",
    "\n",
    "**Then, $u$ is both the quantity being advected and the speed at which\n",
    "it is moving.**\n",
    "\n",
    "---\n",
    "\n",
    "### Shocks\n",
    "\n",
    "For the linear advection equation, the solution was constant along lines $x = vt + x_0$, which are\n",
    "parallel (because $v$ is spatially constant).  \n",
    "\n",
    "For Burgers' equation,\n",
    "this is no longer the case, and the characteristic lines are now\n",
    "given by $\\frac{dx}{dt} = u$, with $x(0) = x_0$.  \n",
    "Since $u = u(t)$, we cannot integrate this directly.\n",
    "\n",
    "If we take $u_0 = u(t=0)$, then we can look at how the characteristic\n",
    "behave over a small time interval (before $u(x,t)$ changes\n",
    "significantly).\n",
    "\n",
    "<img src=\"burguerscharact.jpeg\" alt=\"drawing\" width=\"500\"/>\n"
   ]
  },
  {
   "cell_type": "markdown",
   "metadata": {},
   "source": [
    "We see that after a\n",
    "short period of time, the characteristics intersect.  At the point,\n",
    "$(x_s, t_s)$ where they intersect, there is no way to trace backwards\n",
    "along the characteristics to find a unique initial state. \n",
    "\n",
    "This\n",
    "merging of the characteristics in the $x$-$t$ plane is a **shock**, and\n",
    "represents just one way that nonlinear problems can differ from linear\n",
    "ones.\n",
    "\n",
    "<img src=\"burguershock.jpeg\" alt=\"drawing\" width=\"500\"/>\n"
   ]
  },
  {
   "cell_type": "markdown",
   "metadata": {},
   "source": [
    "---\n",
    "### Rarefaction\n",
    "\n",
    "Another type of wave not present in a linear system is a **rarefaction**.  Next figure shows initial\n",
    "conditions of slower velocity to the left of faster velocity. \n",
    "\n",
    "\n",
    "<img src=\"burguerscharact2.jpeg\" alt=\"drawing\" width=\"500\"/>\n",
    "\n",
    "We see that the characteristics diverge in this case, and we will be left\n",
    "with having to fill in the solution inbetween as some intermediate\n",
    "state.\n",
    "\n",
    "<img src=\"burguersrarefaction.jpeg\" alt=\"drawing\" width=\"500\"/>\n",
    "\n"
   ]
  }
 ],
 "metadata": {
  "kernelspec": {
   "display_name": "Python 3",
   "language": "python",
   "name": "python3"
  },
  "language_info": {
   "codemirror_mode": {
    "name": "ipython",
    "version": 3
   },
   "file_extension": ".py",
   "mimetype": "text/x-python",
   "name": "python",
   "nbconvert_exporter": "python",
   "pygments_lexer": "ipython3",
   "version": "3.7.4"
  }
 },
 "nbformat": 4,
 "nbformat_minor": 2
}
